{
 "cells": [
  {
   "cell_type": "code",
   "execution_count": 1,
   "metadata": {
    "collapsed": false
   },
   "outputs": [
    {
     "name": "stderr",
     "output_type": "stream",
     "text": [
      "Using TensorFlow backend.\n"
     ]
    }
   ],
   "source": [
    "import keras.callbacks as cb\n",
    "from keras.datasets import mnist\n",
    "from keras.layers.core import Activation, Dense, Dropout\n",
    "from keras.models import Sequential\n",
    "from keras.optimizers import SGD,Adam\n",
    "from keras.regularizers import l1, l2\n",
    "from keras.utils import np_utils\n",
    "\n",
    "%matplotlib inline\n",
    "from matplotlib import pyplot as plt\n",
    "import numpy as np\n",
    "import time\n",
    "import pandas as pd\n"
   ]
  },
  {
   "cell_type": "markdown",
   "metadata": {},
   "source": [
    "# Pre-processing"
   ]
  },
  {
   "cell_type": "code",
   "execution_count": 2,
   "metadata": {
    "collapsed": false
   },
   "outputs": [],
   "source": [
    "def PreprocessDataset():\n",
    "    from sklearn import preprocessing\n",
    "    data = pd.read_csv('Data/cleaned_data.csv',index_col=False,low_memory=False)\n",
    "    data = data.reindex(np.random.permutation(data.index))\n",
    "    cols = data.columns\n",
    "    x_columns = cols.drop(\"match_result\")\n",
    "    \n",
    "    x = data[x_columns]\n",
    "    y = data['match_result']\n",
    "    \n",
    "    train_max_row = int(data.shape[0]*0.9)\n",
    "    \n",
    "    x_train = x.iloc[:train_max_row]\n",
    "    x_test = x.iloc[train_max_row:]\n",
    "    \n",
    "    y_train = y.iloc[:train_max_row]\n",
    "    y_test = y.iloc[train_max_row:]\n",
    "    \n",
    "    y_train = np_utils.to_categorical(y_train)\n",
    "    y_test = np_utils.to_categorical(y_test)\n",
    "    \n",
    "    ################Pre-processing###########\n",
    "    min_max_scaler = preprocessing.MinMaxScaler()\n",
    "    x_train = min_max_scaler.fit_transform(x_train)\n",
    "    x_test = min_max_scaler.fit_transform(x_test)\n",
    "    \n",
    "    return x_train, x_test, y_train, y_test\n",
    "\n",
    "x_train, x_test, y_train, y_test = PreprocessDataset()"
   ]
  },
  {
   "cell_type": "code",
   "execution_count": 3,
   "metadata": {
    "collapsed": false
   },
   "outputs": [
    {
     "data": {
      "text/plain": [
       "array([ 0.02764423,  0.1372549 ,  0.07351763,  0.02092812,  0.10169492,\n",
       "        0.07314629,  0.03693931,  0.19125683,  0.13389121,  0.02644231,\n",
       "        0.13144181,  0.07314629,  0.02922338,  0.15519399,  0.07852564,\n",
       "        0.02058908,  0.10288066,  0.05339806])"
      ]
     },
     "execution_count": 3,
     "metadata": {},
     "output_type": "execute_result"
    }
   ],
   "source": [
    "x_train[3]"
   ]
  },
  {
   "cell_type": "code",
   "execution_count": 4,
   "metadata": {
    "collapsed": false
   },
   "outputs": [
    {
     "data": {
      "text/plain": [
       "(19917, 3)"
      ]
     },
     "execution_count": 4,
     "metadata": {},
     "output_type": "execute_result"
    }
   ],
   "source": [
    "'''\n",
    "data = pd.read_csv('Data/cleaned_data.csv',index_col=False,low_memory=False)\n",
    "data = data.reindex(np.random.permutation(data.index))\n",
    "cols = data.columns\n",
    "x_columns = cols.drop(\"match_result\")\n",
    "y = data['match_result']\n",
    "x = data[x_columns]\n",
    "\n",
    "type(x)\n",
    "'''\n",
    "y_train.shape\n"
   ]
  },
  {
   "cell_type": "code",
   "execution_count": 5,
   "metadata": {
    "collapsed": false
   },
   "outputs": [],
   "source": [
    "def DefineModel():\n",
    "\n",
    "    ################################################################\n",
    "    # Activity 2 (Network Structure):\n",
    "    # Group A: uses only 1 layer\n",
    "    # second_layer_width = 0\n",
    "    #\n",
    "    # Group B: uses 2 layers of a tower-shaped (same width) network.\n",
    "    # second_layer_width = 128\n",
    "    #\n",
    "    # Group C: uses 2 layers of a pyramid-shaped (shrink width) network.\n",
    "    # second_layer_width = 64\n",
    "    ################################################################\n",
    "    first_layer_width = 128\n",
    "    second_layer_width = 64   \n",
    "    \n",
    "    ################################################################\n",
    "    # Activity 3 (Activation Function):\n",
    "    # Group A uses ReLU.\n",
    "    # activation_func = 'relu' \n",
    "    # \n",
    "    # Group B uses Sigmoid.\n",
    "    # activation_func = 'sigmoid'\n",
    "    #\n",
    "    # Group C uses Tanh.\n",
    "    # activation_func = 'tanh'\n",
    "    ################################################################\n",
    "    activation_func = 'relu' \n",
    "\n",
    "    ################################################################    \n",
    "    # Activity 4 (Loss Function):\n",
    "    # Group A uses cross entropy.\n",
    "    # loss_function = 'categorical_crossentropy'\n",
    "    # \n",
    "    # Group B uses cross entropy.\n",
    "    # loss_function = 'categorical_crossentropy'\n",
    "    # \n",
    "    # Group C uses squared error.\n",
    "    # loss_function = 'mean_squared_error'\n",
    "    ################################################################    \n",
    "    loss_function = 'categorical_crossentropy'\n",
    "    #loss_function = 'mean_squared_error'\n",
    "    \n",
    "    #################################################################    \n",
    "    # Activity 5 (Dropout):\n",
    "    # Group A uses 0% dropout.\n",
    "    #\n",
    "    # Group B uses 50% dropout.\n",
    "    # dropout_rate = 0.5\n",
    "    #\n",
    "    # Group C uses 90% dropout.\n",
    "    # dropout_rate = 0.9\n",
    "    #################################################################    \n",
    "    dropout_rate = 0.3\n",
    "    \n",
    "    ################################################################    \n",
    "    # Activity 6 (Regularization):\n",
    "    # Group A uses L1 regularizer\n",
    "    # weight_regularizer = l1(0.01)\n",
    "    #\n",
    "    # Group B uses L2 regularizer\n",
    "    #weight_regularizer = l2(0.01)\n",
    "    # \n",
    "    # Group C uses no regularizer\n",
    "    # weight_regularizer = None\n",
    "    ################################################################\n",
    "    weight_regularizer = None\n",
    "\n",
    "    ################################################################    \n",
    "    # Activity 8 (Learning Rate):\n",
    "    # Group A uses learning rate of 0.1.\n",
    "    # learning_rate = 0.1\n",
    "    # \n",
    "    # Group B uses learning rate of 0.01.\n",
    "    # learning_rate = 0.01\n",
    "    #\n",
    "    # Group C uses learning rate of 0.5.    \n",
    "    # learning_rate = 0.5\n",
    "    ################################################################\n",
    "    learning_rate = 0.001\n",
    "    \n",
    "    ## Initialize model.\n",
    "    model = Sequential()\n",
    "\n",
    "    ## First hidden layer with 'first_layer_width' neurons. \n",
    "    ## Also need to specify input dimension.\n",
    "    ## 'Dense' means fully-connected.\n",
    "    model.add(Dense(16, input_dim=18, W_regularizer=weight_regularizer))\n",
    "    model.add(Activation(activation_func))\n",
    "    model.add(Dropout(dropout_rate))\n",
    "    \n",
    "\n",
    "    \n",
    "    model.add(Dense(16))\n",
    "    model.add(Activation(activation_func))   \n",
    "    model.add(Dropout(dropout_rate))\n",
    "    \n",
    "    model.add(Dense(12))\n",
    "    model.add(Activation(activation_func))   \n",
    "    model.add(Dropout(dropout_rate))\n",
    "    \n",
    "    model.add(Dense(12))\n",
    "    model.add(Activation(activation_func))   \n",
    "    model.add(Dropout(dropout_rate))\n",
    "    \n",
    "    \n",
    "    model.add(Dense(8))\n",
    "    model.add(Activation(activation_func))   \n",
    "    model.add(Dropout(dropout_rate))\n",
    "    \n",
    "    model.add(Dense(6))\n",
    "    model.add(Activation(activation_func))   \n",
    "    model.add(Dropout(dropout_rate))\n",
    "    \n",
    "    model.add(Dense(4))\n",
    "    model.add(Activation(activation_func))   \n",
    "    model.add(Dropout(0.1))\n",
    "\n",
    "    \n",
    "    \n",
    "    ## Last layer has the same dimension as the number of classes\n",
    "    model.add(Dense(3))\n",
    "    ## For classification, the activation is softmax\n",
    "    model.add(Activation('softmax'))\n",
    "    ## Define optimizer. In this tutorial/codelab, we select SGD.\n",
    "    ## You can also use other methods, e.g., opt = RMSprop()\n",
    "    opt = Adam(lr=learning_rate, beta_1=0.9, beta_2=0.999, epsilon=1e-08, decay=0.0)\n",
    "    #opt = SGD(lr=learning_rate, clipnorm=5.)\n",
    "    ## Define loss function = 'categorical_crossentropy' or 'mean_squared_error'\n",
    "    model.compile(loss=loss_function, optimizer=opt, metrics=[\"accuracy\"])\n",
    "\n",
    "    return model"
   ]
  },
  {
   "cell_type": "code",
   "execution_count": 6,
   "metadata": {
    "collapsed": true
   },
   "outputs": [],
   "source": [
    "def TrainModel(data=None, epochs=20):\n",
    "    ################################################################\n",
    "    # Activity 7 (Mini-batch):\n",
    "    # Group A uses mini-batch of size 128.\n",
    "    # batch = 128\n",
    "    #\n",
    "    # Group B uses mini-batch of size 256.\n",
    "    # batch = 256\n",
    "    # \n",
    "    # Group C uses mini-batch of size 512.\n",
    "    # batch = 512\n",
    "    ################################################################\n",
    "    batch=128\n",
    "    start_time = time.time()\n",
    "    model = DefineModel()\n",
    "    if data is None:\n",
    "        print(\"Must provide data.\")\n",
    "        return\n",
    "    x_train, x_test, y_train, y_test = data\n",
    "    print('Start training.')\n",
    "    ## Use the first 55,000 (out of 60,000) samples to train, last 5,500 samples to validate.\n",
    "    history = model.fit(x_train[:17500], y_train[:17500], nb_epoch=epochs, batch_size=batch,\n",
    "              validation_data=(x_train[17500:], y_train[17500:]))\n",
    "    print(\"Training took {0} seconds.\".format(time.time() - start_time))\n",
    "    return model, history"
   ]
  },
  {
   "cell_type": "code",
   "execution_count": 7,
   "metadata": {
    "collapsed": false
   },
   "outputs": [
    {
     "name": "stdout",
     "output_type": "stream",
     "text": [
      "Start training.\n",
      "Train on 17500 samples, validate on 2417 samples\n",
      "Epoch 1/30\n",
      "17500/17500 [==============================] - 0s - loss: 1.0826 - acc: 0.4390 - val_loss: 1.0653 - val_acc: 0.4547\n",
      "Epoch 2/30\n",
      "17500/17500 [==============================] - 0s - loss: 1.0493 - acc: 0.4563 - val_loss: 1.0139 - val_acc: 0.4547\n",
      "Epoch 3/30\n",
      "17500/17500 [==============================] - 0s - loss: 1.0366 - acc: 0.4563 - val_loss: 1.0239 - val_acc: 0.4547\n",
      "Epoch 4/30\n",
      "17500/17500 [==============================] - 0s - loss: 1.0298 - acc: 0.4565 - val_loss: 1.0271 - val_acc: 0.4547\n",
      "Epoch 5/30\n",
      "17500/17500 [==============================] - 0s - loss: 1.0280 - acc: 0.4565 - val_loss: 1.0165 - val_acc: 0.4547\n",
      "Epoch 6/30\n",
      "17500/17500 [==============================] - 0s - loss: 1.0242 - acc: 0.4565 - val_loss: 1.0138 - val_acc: 0.4547\n",
      "Epoch 7/30\n",
      "17500/17500 [==============================] - 0s - loss: 1.0241 - acc: 0.4564 - val_loss: 1.0179 - val_acc: 0.4547\n",
      "Epoch 8/30\n",
      "17500/17500 [==============================] - 0s - loss: 1.0217 - acc: 0.4593 - val_loss: 1.0125 - val_acc: 0.4547\n",
      "Epoch 9/30\n",
      "17500/17500 [==============================] - 0s - loss: 1.0250 - acc: 0.4672 - val_loss: 1.0181 - val_acc: 0.5304\n",
      "Epoch 10/30\n",
      "17500/17500 [==============================] - 0s - loss: 1.0234 - acc: 0.4818 - val_loss: 1.0203 - val_acc: 0.5366\n",
      "Epoch 11/30\n",
      "17500/17500 [==============================] - 0s - loss: 1.0186 - acc: 0.5048 - val_loss: 1.0118 - val_acc: 0.5333\n",
      "Epoch 12/30\n",
      "17500/17500 [==============================] - 0s - loss: 1.0184 - acc: 0.5060 - val_loss: 1.0080 - val_acc: 0.5379\n",
      "Epoch 13/30\n",
      "17500/17500 [==============================] - 0s - loss: 1.0146 - acc: 0.5111 - val_loss: 1.0103 - val_acc: 0.5399\n",
      "Epoch 14/30\n",
      "17500/17500 [==============================] - 0s - loss: 1.0193 - acc: 0.5033 - val_loss: 1.0178 - val_acc: 0.5275\n",
      "Epoch 15/30\n",
      "17500/17500 [==============================] - 0s - loss: 1.0173 - acc: 0.5076 - val_loss: 1.0161 - val_acc: 0.5370\n",
      "Epoch 16/30\n",
      "17500/17500 [==============================] - 0s - loss: 1.0153 - acc: 0.5100 - val_loss: 1.0079 - val_acc: 0.5374\n",
      "Epoch 17/30\n",
      "17500/17500 [==============================] - 0s - loss: 1.0186 - acc: 0.5078 - val_loss: 1.0167 - val_acc: 0.5362\n",
      "Epoch 18/30\n",
      "17500/17500 [==============================] - 0s - loss: 1.0148 - acc: 0.5087 - val_loss: 1.0157 - val_acc: 0.5350\n",
      "Epoch 19/30\n",
      "17500/17500 [==============================] - 0s - loss: 1.0141 - acc: 0.5098 - val_loss: 1.0145 - val_acc: 0.5304\n",
      "Epoch 20/30\n",
      "17500/17500 [==============================] - 0s - loss: 1.0134 - acc: 0.5100 - val_loss: 1.0142 - val_acc: 0.5308\n",
      "Epoch 21/30\n",
      "17500/17500 [==============================] - 0s - loss: 1.0122 - acc: 0.5058 - val_loss: 1.0171 - val_acc: 0.5362\n",
      "Epoch 22/30\n",
      "17500/17500 [==============================] - 0s - loss: 1.0151 - acc: 0.5087 - val_loss: 1.0221 - val_acc: 0.5341\n",
      "Epoch 23/30\n",
      "17500/17500 [==============================] - 0s - loss: 1.0162 - acc: 0.5081 - val_loss: 1.0226 - val_acc: 0.5267\n",
      "Epoch 24/30\n",
      "17500/17500 [==============================] - 0s - loss: 1.0098 - acc: 0.5135 - val_loss: 1.0163 - val_acc: 0.5379\n",
      "Epoch 25/30\n",
      "17500/17500 [==============================] - 0s - loss: 1.0109 - acc: 0.5144 - val_loss: 1.0159 - val_acc: 0.5379\n",
      "Epoch 26/30\n",
      "17500/17500 [==============================] - 0s - loss: 1.0118 - acc: 0.5099 - val_loss: 1.0123 - val_acc: 0.5379\n",
      "Epoch 27/30\n",
      "17500/17500 [==============================] - 0s - loss: 1.0116 - acc: 0.5106 - val_loss: 1.0178 - val_acc: 0.5379\n",
      "Epoch 28/30\n",
      "17500/17500 [==============================] - 0s - loss: 1.0117 - acc: 0.5113 - val_loss: 1.0218 - val_acc: 0.5354\n",
      "Epoch 29/30\n",
      "17500/17500 [==============================] - 0s - loss: 1.0144 - acc: 0.5067 - val_loss: 1.0225 - val_acc: 0.5362\n",
      "Epoch 30/30\n",
      "17500/17500 [==============================] - 0s - loss: 1.0099 - acc: 0.5138 - val_loss: 1.0219 - val_acc: 0.5370\n",
      "Training took 14.5502669811 seconds.\n"
     ]
    }
   ],
   "source": [
    "trained_model, training_history = TrainModel(data=[x_train, x_test, y_train, y_test],epochs = 30)"
   ]
  },
  {
   "cell_type": "code",
   "execution_count": 8,
   "metadata": {
    "collapsed": false
   },
   "outputs": [],
   "source": [
    "def PlotHistory(train_value, test_value, value_is_loss_or_acc):\n",
    "    f, ax = plt.subplots()\n",
    "    ax.plot([None] + train_value, 'o-')\n",
    "    ax.plot([None] + test_value, 'x-')\n",
    "    ## Plot legend and use the best location automatically: loc = 0.\n",
    "    ax.legend(['Train ' + value_is_loss_or_acc, 'Validation ' + value_is_loss_or_acc], loc = 0) \n",
    "    ax.set_title('Training/Validation ' + value_is_loss_or_acc + ' per Epoch')\n",
    "    ax.set_xlabel('Epoch')\n",
    "    ax.set_ylabel(value_is_loss_or_acc)  \n",
    "    \n"
   ]
  },
  {
   "cell_type": "code",
   "execution_count": 9,
   "metadata": {
    "collapsed": false
   },
   "outputs": [
    {
     "data": {
      "image/png": "[encoded data removed]",
      "text/plain": [
       "<matplotlib.figure.Figure at 0x7f7f55bc5ed0>"
      ]
     },
     "metadata": {},
     "output_type": "display_data"
    },
    {
     "data": {
      "image/png": "[encoded data removed]",
      "text/plain": [
       "<matplotlib.figure.Figure at 0x7f7f55bc5e50>"
      ]
     },
     "metadata": {},
     "output_type": "display_data"
    }
   ],
   "source": [
    "    \n",
    "PlotHistory(training_history.history['loss'], training_history.history['val_loss'], 'Loss')\n",
    "PlotHistory(training_history.history['acc'], training_history.history['val_acc'], 'Accuracy')"
   ]
  },
  {
   "cell_type": "code",
   "execution_count": 10,
   "metadata": {
    "collapsed": true
   },
   "outputs": [],
   "source": [
    "def drawWeightHistogram(x):\n",
    "    ## the histogram of the data\n",
    "    fig = plt.subplots()\n",
    "    n, bins, patches = plt.hist(x, 50)\n",
    "    plt.xlim(-0.5, 0.5)\n",
    "    plt.xlabel('Weight')\n",
    "    plt.ylabel('Count')\n",
    "    zero_counts = (x == 0.0).sum()\n",
    "    plt.title(\"Weight Histogram. Num of '0's: %d\" % zero_counts)"
   ]
  },
  {
   "cell_type": "code",
   "execution_count": 11,
   "metadata": {
    "collapsed": false
   },
   "outputs": [
    {
     "data": {
      "image/png": "[encoded data removed]",
      "text/plain": [
       "<matplotlib.figure.Figure at 0x7f7f4d630f90>"
      ]
     },
     "metadata": {},
     "output_type": "display_data"
    }
   ],
   "source": [
    "w1 = trained_model.layers[0].get_weights()[0].flatten()\n",
    "drawWeightHistogram(w1)"
   ]
  },
  {
   "cell_type": "code",
   "execution_count": 12,
   "metadata": {
    "collapsed": true
   },
   "outputs": [],
   "source": [
    "def TestModel(model=None, data=None):\n",
    "    if model is None:\n",
    "        print(\"Must provide a trained model.\")\n",
    "        return\n",
    "    if data is None:\n",
    "        print(\"Must provide data.\")\n",
    "        return\n",
    "    x_test, y_test = data\n",
    "    scores = model.evaluate(x_test, y_test)\n",
    "    return scores"
   ]
  },
  {
   "cell_type": "code",
   "execution_count": 13,
   "metadata": {
    "collapsed": false
   },
   "outputs": [
    {
     "name": "stdout",
     "output_type": "stream",
     "text": [
      "2080/2213 [===========================>..] - ETA: 0sTest loss 1.0319, accuracy 52.37%\n"
     ]
    }
   ],
   "source": [
    "test_score = TestModel(model=trained_model, data=[x_test, y_test])\n",
    "print(\"Test loss {:.4f}, accuracy {:.2f}%\".format(test_score[0], test_score[1] * 100))"
   ]
  }
 ],
 "metadata": {
  "anaconda-cloud": {},
  "kernelspec": {
   "display_name": "Python [conda root]",
   "language": "python",
   "name": "conda-root-py"
  },
  "language_info": {
   "codemirror_mode": {
    "name": "ipython",
    "version": 2
   },
   "file_extension": ".py",
   "mimetype": "text/x-python",
   "name": "python",
   "nbconvert_exporter": "python",
   "pygments_lexer": "ipython2",
   "version": "2.7.12"
  }
 },
 "nbformat": 4,
 "nbformat_minor": 1
}
