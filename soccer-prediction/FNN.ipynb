{
 "cells": [
  {
   "cell_type": "markdown",
   "metadata": {
    "collapsed": false
   },
   "source": [
    "# Codelab for FNN Soccer Result Prediction\n",
    "\n",
    "### Index\n",
    "\n",
    "1. [Pre-Processing](#Pre-processing)\n",
    "2. [Recipes for Neural Nets](#Recipes-for-Neural-Nets)\n",
    "3. [Start Training](#Start-Training)\n",
    "4. [Observe Training Process](#Observe-Training-Process)\n",
    "5. [Observe Weight Distribution](#Observe-Weight-Distribution)\n",
    "6. [Define Testing Procedure](#Define-Testing-Procedure)\n"
   ]
  },
  {
   "cell_type": "code",
   "execution_count": 1,
   "metadata": {
    "collapsed": false
   },
   "outputs": [
    {
     "name": "stderr",
     "output_type": "stream",
     "text": [
      "Using TensorFlow backend.\n"
     ]
    }
   ],
   "source": [
    "import keras.callbacks as cb\n",
    "from keras.datasets import mnist\n",
    "from keras.layers.core import Activation, Dense, Dropout\n",
    "from keras.models import Sequential\n",
    "from keras.optimizers import SGD,Adam\n",
    "from keras.regularizers import l1, l2\n",
    "from keras.utils import np_utils\n",
    "\n",
    "%matplotlib inline\n",
    "from matplotlib import pyplot as plt\n",
    "import numpy as np\n",
    "import time\n",
    "import pandas as pd\n"
   ]
  },
  {
   "cell_type": "markdown",
   "metadata": {},
   "source": [
    "## Pre-processing\n",
    "\n",
    "* proceed w/ standardizing datasets by z-scoring (de-mean, uni-variance).\n",
    "\n",
    "* Training Data Ratio = 0.9"
   ]
  },
  {
   "cell_type": "code",
   "execution_count": 2,
   "metadata": {
    "collapsed": false
   },
   "outputs": [],
   "source": [
    "def PreprocessDataset():\n",
    "    from sklearn import preprocessing\n",
    "    data = pd.read_csv('Processed/cleaned_data.csv',index_col=False,low_memory=False)\n",
    "    data = data.reindex(np.random.permutation(data.index))\n",
    "    cols = data.columns\n",
    "    x_columns = cols.drop(\"match_result\")\n",
    "    \n",
    "    x = data[x_columns]\n",
    "    y = data['match_result']\n",
    "    \n",
    "    train_max_row = int(data.shape[0]*0.9)\n",
    "    \n",
    "    x_train = x.iloc[:train_max_row]\n",
    "    x_test = x.iloc[train_max_row:]\n",
    "    \n",
    "    y_train = y.iloc[:train_max_row]\n",
    "    y_test = y.iloc[train_max_row:]\n",
    "    \n",
    "    y_train = np_utils.to_categorical(y_train)\n",
    "    y_test = np_utils.to_categorical(y_test)\n",
    "    \n",
    "    ################Pre-processing###########\n",
    "    x_train = preprocessing.scale(x_train)\n",
    "    x_test = preprocessing.scale(x_test)\n",
    "    \n",
    "    return x_train, x_test, y_train, y_test\n",
    "\n",
    "x_train, x_test, y_train, y_test = PreprocessDataset()"
   ]
  },
  {
   "cell_type": "markdown",
   "metadata": {},
   "source": [
    "## Recipes for Neural Nets\n",
    "\n",
    "* Number of Layer: 5\n",
    "\n",
    "* Activation Fuction: ReLU\n",
    "\n",
    "* Droupout Rate: 0.5 for 1st Layer and 0.4 for the rest four Layer\n",
    "\n",
    "* Learning Rate: 0.005\n",
    "\n",
    "* Weight Regularizer: None\n",
    "\n",
    "* Optimization Methon: Adam\n",
    "\n",
    "* Number of Batch: 128\n",
    "\n",
    "* Number of epoch: 50\n",
    "\n"
   ]
  },
  {
   "cell_type": "code",
   "execution_count": 4,
   "metadata": {
    "collapsed": false
   },
   "outputs": [],
   "source": [
    "def DefineModel():\n",
    "\n",
    "\n",
    "    activation_func = 'relu' \n",
    "    loss_function = 'categorical_crossentropy'\n",
    "    #loss_function = 'mean_squared_error'\n",
    "      \n",
    "    dropout_rate = 0.4\n",
    "    weight_regularizer = None\n",
    "\n",
    "    learning_rate = 0.005\n",
    "    \n",
    "    ## Initialize model.\n",
    "    model = Sequential()\n",
    "\n",
    "    ## 1st Layer\n",
    "    ## Dense' means fully-connected.\n",
    "    model.add(Dense(128, input_dim=52, W_regularizer=weight_regularizer))\n",
    "    model.add(Activation(activation_func))\n",
    "    model.add(Dropout(0.5))\n",
    "    \n",
    "    ## 2nd Layer\n",
    "    model.add(Dense(64, input_dim=128, W_regularizer=weight_regularizer))\n",
    "    model.add(Activation(activation_func))\n",
    "    model.add(Dropout(dropout_rate))\n",
    "    \n",
    "    ## 3rd Layer\n",
    "    model.add(Dense(32))\n",
    "    model.add(Activation(activation_func))   \n",
    "    model.add(Dropout(dropout_rate))\n",
    "    \n",
    "    ## 4th Layer\n",
    "    model.add(Dense(16))\n",
    "    model.add(Activation(activation_func))   \n",
    "    model.add(Dropout(dropout_rate))\n",
    "    \n",
    "    ## 5th Layer\n",
    "    model.add(Dense(8))\n",
    "    model.add(Activation(activation_func))   \n",
    "    model.add(Dropout(dropout_rate))\n",
    "\n",
    "    \n",
    "    ## Adding Softmax Layer\n",
    "    ## Last layer has the same dimension as the number of classes\n",
    "    model.add(Dense(3))\n",
    "    \n",
    "    ## For classification, the activation is softmax\n",
    "    model.add(Activation('softmax'))\n",
    "    \n",
    "    ## Define optimizer. we select Adam\n",
    "    opt = Adam(lr=learning_rate, beta_1=0.9, beta_2=0.999, epsilon=1e-08, decay=0.0)\n",
    "    #opt = SGD(lr=learning_rate, clipnorm=5.)\n",
    "    \n",
    "    ## Define loss function = 'categorical_crossentropy' or 'mean_squared_error'\n",
    "    model.compile(loss=loss_function, optimizer=opt, metrics=[\"accuracy\"])\n",
    "\n",
    "    return model"
   ]
  },
  {
   "cell_type": "code",
   "execution_count": 5,
   "metadata": {
    "collapsed": true
   },
   "outputs": [],
   "source": [
    "def TrainModel(data=None, epochs=20):\n",
    "\n",
    "    batch=128\n",
    "    start_time = time.time()\n",
    "    model = DefineModel()\n",
    "    if data is None:\n",
    "        print(\"Must provide data.\")\n",
    "        return\n",
    "    x_train, x_test, y_train, y_test = data\n",
    "    print('Start training.')\n",
    "    ## Use the first 55,000 (out of 60,000) samples to train, last 5,500 samples to validate.\n",
    "    history = model.fit(x_train[:17500], y_train[:17500], nb_epoch=epochs, batch_size=batch,\n",
    "              validation_data=(x_train[17500:], y_train[17500:]))\n",
    "    print(\"Training took {0} seconds.\".format(time.time() - start_time))\n",
    "    return model, history"
   ]
  },
  {
   "cell_type": "markdown",
   "metadata": {},
   "source": [
    "## Start Training"
   ]
  },
  {
   "cell_type": "code",
   "execution_count": 6,
   "metadata": {
    "collapsed": false
   },
   "outputs": [
    {
     "name": "stdout",
     "output_type": "stream",
     "text": [
      "Start training.\n",
      "Train on 17500 samples, validate on 2417 samples\n",
      "Epoch 1/50\n",
      "17500/17500 [==============================] - 1s - loss: 1.0616 - acc: 0.4574 - val_loss: 1.0088 - val_acc: 0.4936\n",
      "Epoch 2/50\n",
      "17500/17500 [==============================] - 0s - loss: 1.0301 - acc: 0.4874 - val_loss: 0.9998 - val_acc: 0.5139\n",
      "Epoch 3/50\n",
      "17500/17500 [==============================] - 0s - loss: 1.0191 - acc: 0.4991 - val_loss: 1.0002 - val_acc: 0.5168\n",
      "Epoch 4/50\n",
      "17500/17500 [==============================] - 0s - loss: 1.0129 - acc: 0.5009 - val_loss: 0.9902 - val_acc: 0.5225\n",
      "Epoch 5/50\n",
      "17500/17500 [==============================] - 0s - loss: 1.0136 - acc: 0.5013 - val_loss: 0.9933 - val_acc: 0.5118\n",
      "Epoch 6/50\n",
      "17500/17500 [==============================] - 0s - loss: 1.0067 - acc: 0.5063 - val_loss: 0.9937 - val_acc: 0.5188\n",
      "Epoch 7/50\n",
      "17500/17500 [==============================] - 0s - loss: 1.0079 - acc: 0.5038 - val_loss: 0.9830 - val_acc: 0.5279\n",
      "Epoch 8/50\n",
      "17500/17500 [==============================] - 0s - loss: 1.0073 - acc: 0.5069 - val_loss: 0.9962 - val_acc: 0.5283\n",
      "Epoch 9/50\n",
      "17500/17500 [==============================] - 0s - loss: 1.0079 - acc: 0.5058 - val_loss: 0.9966 - val_acc: 0.5168\n",
      "Epoch 10/50\n",
      "17500/17500 [==============================] - 0s - loss: 1.0045 - acc: 0.5077 - val_loss: 0.9930 - val_acc: 0.5242\n",
      "Epoch 11/50\n",
      "17500/17500 [==============================] - 0s - loss: 1.0055 - acc: 0.5046 - val_loss: 0.9794 - val_acc: 0.5308\n",
      "Epoch 12/50\n",
      "17500/17500 [==============================] - 0s - loss: 1.0063 - acc: 0.5030 - val_loss: 0.9846 - val_acc: 0.5250\n",
      "Epoch 13/50\n",
      "17500/17500 [==============================] - 0s - loss: 1.0054 - acc: 0.5113 - val_loss: 0.9937 - val_acc: 0.5275\n",
      "Epoch 14/50\n",
      "17500/17500 [==============================] - 0s - loss: 0.9996 - acc: 0.5138 - val_loss: 0.9889 - val_acc: 0.5263\n",
      "Epoch 15/50\n",
      "17500/17500 [==============================] - 0s - loss: 1.0051 - acc: 0.5061 - val_loss: 0.9910 - val_acc: 0.5246\n",
      "Epoch 16/50\n",
      "17500/17500 [==============================] - 0s - loss: 1.0046 - acc: 0.5129 - val_loss: 0.9800 - val_acc: 0.5250\n",
      "Epoch 17/50\n",
      "17500/17500 [==============================] - 0s - loss: 1.0038 - acc: 0.5080 - val_loss: 0.9905 - val_acc: 0.5267\n",
      "Epoch 18/50\n",
      "17500/17500 [==============================] - 0s - loss: 1.0041 - acc: 0.5087 - val_loss: 0.9840 - val_acc: 0.5238\n",
      "Epoch 19/50\n",
      "17500/17500 [==============================] - 0s - loss: 1.0010 - acc: 0.5108 - val_loss: 0.9934 - val_acc: 0.5209\n",
      "Epoch 20/50\n",
      "17500/17500 [==============================] - 0s - loss: 1.0031 - acc: 0.5088 - val_loss: 0.9890 - val_acc: 0.5283\n",
      "Epoch 21/50\n",
      "17500/17500 [==============================] - 0s - loss: 1.0019 - acc: 0.5137 - val_loss: 0.9877 - val_acc: 0.5230\n",
      "Epoch 22/50\n",
      "17500/17500 [==============================] - 0s - loss: 1.0040 - acc: 0.5109 - val_loss: 0.9846 - val_acc: 0.5209\n",
      "Epoch 23/50\n",
      "17500/17500 [==============================] - 0s - loss: 1.0036 - acc: 0.5108 - val_loss: 0.9857 - val_acc: 0.5238\n",
      "Epoch 24/50\n",
      "17500/17500 [==============================] - 0s - loss: 1.0047 - acc: 0.5102 - val_loss: 0.9910 - val_acc: 0.5275\n",
      "Epoch 25/50\n",
      "17500/17500 [==============================] - 0s - loss: 1.0058 - acc: 0.5121 - val_loss: 0.9849 - val_acc: 0.5296\n",
      "Epoch 26/50\n",
      "17500/17500 [==============================] - 0s - loss: 1.0028 - acc: 0.5107 - val_loss: 0.9851 - val_acc: 0.5288\n",
      "Epoch 27/50\n",
      "17500/17500 [==============================] - 0s - loss: 1.0018 - acc: 0.5116 - val_loss: 1.0011 - val_acc: 0.5283\n",
      "Epoch 28/50\n",
      "17500/17500 [==============================] - 0s - loss: 1.0035 - acc: 0.5068 - val_loss: 0.9830 - val_acc: 0.5308\n",
      "Epoch 29/50\n",
      "17500/17500 [==============================] - 0s - loss: 1.0034 - acc: 0.5166 - val_loss: 0.9888 - val_acc: 0.5283\n",
      "Epoch 30/50\n",
      "17500/17500 [==============================] - 0s - loss: 1.0054 - acc: 0.5092 - val_loss: 0.9791 - val_acc: 0.5275\n",
      "Epoch 31/50\n",
      "17500/17500 [==============================] - 0s - loss: 1.0010 - acc: 0.5122 - val_loss: 0.9877 - val_acc: 0.5254\n",
      "Epoch 32/50\n",
      "17500/17500 [==============================] - 0s - loss: 1.0026 - acc: 0.5143 - val_loss: 0.9822 - val_acc: 0.5254\n",
      "Epoch 33/50\n",
      "17500/17500 [==============================] - 0s - loss: 1.0044 - acc: 0.5132 - val_loss: 0.9875 - val_acc: 0.5213\n",
      "Epoch 34/50\n",
      "17500/17500 [==============================] - 0s - loss: 1.0049 - acc: 0.5146 - val_loss: 0.9812 - val_acc: 0.5238\n",
      "Epoch 35/50\n",
      "17500/17500 [==============================] - 0s - loss: 1.0021 - acc: 0.5158 - val_loss: 0.9868 - val_acc: 0.5242\n",
      "Epoch 36/50\n",
      "17500/17500 [==============================] - 0s - loss: 0.9993 - acc: 0.5169 - val_loss: 0.9741 - val_acc: 0.5263\n",
      "Epoch 37/50\n",
      "17500/17500 [==============================] - 0s - loss: 1.0026 - acc: 0.5181 - val_loss: 0.9875 - val_acc: 0.5234\n",
      "Epoch 38/50\n",
      "17500/17500 [==============================] - 0s - loss: 1.0013 - acc: 0.5146 - val_loss: 0.9845 - val_acc: 0.5217\n",
      "Epoch 39/50\n",
      "17500/17500 [==============================] - 0s - loss: 1.0035 - acc: 0.5133 - val_loss: 0.9857 - val_acc: 0.5250\n",
      "Epoch 40/50\n",
      "17500/17500 [==============================] - 0s - loss: 1.0056 - acc: 0.5095 - val_loss: 0.9827 - val_acc: 0.5213\n",
      "Epoch 41/50\n",
      "17500/17500 [==============================] - 0s - loss: 1.0026 - acc: 0.5124 - val_loss: 0.9778 - val_acc: 0.5234\n",
      "Epoch 42/50\n",
      "17500/17500 [==============================] - 0s - loss: 1.0035 - acc: 0.5109 - val_loss: 0.9882 - val_acc: 0.5254\n",
      "Epoch 43/50\n",
      "17500/17500 [==============================] - 0s - loss: 1.0045 - acc: 0.5111 - val_loss: 0.9862 - val_acc: 0.5238\n",
      "Epoch 44/50\n",
      "17500/17500 [==============================] - 0s - loss: 1.0063 - acc: 0.5059 - val_loss: 0.9939 - val_acc: 0.5263\n",
      "Epoch 45/50\n",
      "17500/17500 [==============================] - 0s - loss: 1.0017 - acc: 0.5164 - val_loss: 0.9884 - val_acc: 0.5238\n",
      "Epoch 46/50\n",
      "17500/17500 [==============================] - 0s - loss: 1.0019 - acc: 0.5154 - val_loss: 0.9825 - val_acc: 0.5238\n",
      "Epoch 47/50\n",
      "17500/17500 [==============================] - 0s - loss: 1.0023 - acc: 0.5114 - val_loss: 0.9857 - val_acc: 0.5192\n",
      "Epoch 48/50\n",
      "17500/17500 [==============================] - 0s - loss: 1.0005 - acc: 0.5117 - val_loss: 0.9928 - val_acc: 0.5259\n",
      "Epoch 49/50\n",
      "17500/17500 [==============================] - 0s - loss: 1.0041 - acc: 0.5159 - val_loss: 0.9835 - val_acc: 0.5263\n",
      "Epoch 50/50\n",
      "17500/17500 [==============================] - 0s - loss: 1.0029 - acc: 0.5142 - val_loss: 0.9789 - val_acc: 0.5259\n",
      "Training took 32.060739994 seconds.\n"
     ]
    }
   ],
   "source": [
    "trained_model, training_history = TrainModel(data=[x_train, x_test, y_train, y_test],epochs = 50)"
   ]
  },
  {
   "cell_type": "code",
   "execution_count": 7,
   "metadata": {
    "collapsed": false
   },
   "outputs": [],
   "source": [
    "def PlotHistory(train_value, test_value, value_is_loss_or_acc):\n",
    "    f, ax = plt.subplots()\n",
    "    ax.plot([None] + train_value, 'o-')\n",
    "    ax.plot([None] + test_value, 'x-')\n",
    "    ## Plot legend and use the best location automatically: loc = 0.\n",
    "    ax.legend(['Train ' + value_is_loss_or_acc, 'Validation ' + value_is_loss_or_acc], loc = 0) \n",
    "    ax.set_title('Training/Validation ' + value_is_loss_or_acc + ' per Epoch')\n",
    "    ax.set_xlabel('Epoch')\n",
    "    ax.set_ylabel(value_is_loss_or_acc)  \n",
    "    \n"
   ]
  },
  {
   "cell_type": "markdown",
   "metadata": {},
   "source": [
    "## Observe Training Process"
   ]
  },
  {
   "cell_type": "code",
   "execution_count": 8,
   "metadata": {
    "collapsed": false
   },
   "outputs": [
    {
     "data": {
      "image/png": "[encoded data removed]",
      "text/plain": [
       "<matplotlib.figure.Figure at 0x7fea708c8250>"
      ]
     },
     "metadata": {},
     "output_type": "display_data"
    },
    {
     "data": {
      "image/png": "[encoded data removed]",
      "text/plain": [
       "<matplotlib.figure.Figure at 0x7fea7112f4d0>"
      ]
     },
     "metadata": {},
     "output_type": "display_data"
    }
   ],
   "source": [
    "    \n",
    "PlotHistory(training_history.history['loss'], training_history.history['val_loss'], 'Loss')\n",
    "PlotHistory(training_history.history['acc'], training_history.history['val_acc'], 'Accuracy')"
   ]
  },
  {
   "cell_type": "markdown",
   "metadata": {},
   "source": [
    "## Observe Weight Distribution"
   ]
  },
  {
   "cell_type": "code",
   "execution_count": 9,
   "metadata": {
    "collapsed": true
   },
   "outputs": [],
   "source": [
    "def drawWeightHistogram(x):\n",
    "    ## the histogram of the data\n",
    "    fig = plt.subplots()\n",
    "    n, bins, patches = plt.hist(x, 50)\n",
    "    plt.xlim(-0.5, 0.5)\n",
    "    plt.xlabel('Weight')\n",
    "    plt.ylabel('Count')\n",
    "    zero_counts = (x == 0.0).sum()\n",
    "    plt.title(\"Weight Histogram. Num of '0's: %d\" % zero_counts)"
   ]
  },
  {
   "cell_type": "code",
   "execution_count": 10,
   "metadata": {
    "collapsed": false
   },
   "outputs": [
    {
     "data": {
      "image/png": "[encoded data removed]",
      "text/plain": [
       "<matplotlib.figure.Figure at 0x7fea6ff87b90>"
      ]
     },
     "metadata": {},
     "output_type": "display_data"
    }
   ],
   "source": [
    "w1 = trained_model.layers[0].get_weights()[0].flatten()\n",
    "drawWeightHistogram(w1)"
   ]
  },
  {
   "cell_type": "markdown",
   "metadata": {},
   "source": [
    "## Define Testing Procedure\n"
   ]
  },
  {
   "cell_type": "code",
   "execution_count": 11,
   "metadata": {
    "collapsed": true
   },
   "outputs": [],
   "source": [
    "def TestModel(model=None, data=None):\n",
    "    if model is None:\n",
    "        print(\"Must provide a trained model.\")\n",
    "        return\n",
    "    if data is None:\n",
    "        print(\"Must provide data.\")\n",
    "        return\n",
    "    x_test, y_test = data\n",
    "    scores = model.evaluate(x_test, y_test)\n",
    "    return scores"
   ]
  },
  {
   "cell_type": "code",
   "execution_count": 12,
   "metadata": {
    "collapsed": false
   },
   "outputs": [
    {
     "name": "stdout",
     "output_type": "stream",
     "text": [
      "1984/2213 [=========================>....] - ETA: 0sTest loss 0.9763, accuracy 53.86%\n"
     ]
    }
   ],
   "source": [
    "test_score = TestModel(model=trained_model, data=[x_test, y_test])\n",
    "print(\"Test loss {:.4f}, accuracy {:.2f}%\".format(test_score[0], test_score[1] * 100))"
   ]
  }
 ],
 "metadata": {
  "anaconda-cloud": {},
  "kernelspec": {
   "display_name": "Python [conda root]",
   "language": "python",
   "name": "conda-root-py"
  },
  "language_info": {
   "codemirror_mode": {
    "name": "ipython",
    "version": 2
   },
   "file_extension": ".py",
   "mimetype": "text/x-python",
   "name": "python",
   "nbconvert_exporter": "python",
   "pygments_lexer": "ipython2",
   "version": "2.7.12"
  }
 },
 "nbformat": 4,
 "nbformat_minor": 1
}
