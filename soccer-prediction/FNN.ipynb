{
 "cells": [
  {
   "cell_type": "code",
   "execution_count": 1,
   "metadata": {
    "collapsed": false
   },
   "outputs": [
    {
     "name": "stderr",
     "output_type": "stream",
     "text": [
      "Using TensorFlow backend.\n"
     ]
    }
   ],
   "source": [
    "import keras.callbacks as cb\n",
    "from keras.datasets import mnist\n",
    "from keras.layers.core import Activation, Dense, Dropout\n",
    "from keras.models import Sequential\n",
    "from keras.optimizers import SGD,Adam\n",
    "from keras.regularizers import l1, l2\n",
    "from keras.utils import np_utils\n",
    "\n",
    "%matplotlib inline\n",
    "from matplotlib import pyplot as plt\n",
    "import numpy as np\n",
    "import time\n",
    "import pandas as pd\n"
   ]
  },
  {
   "cell_type": "markdown",
   "metadata": {},
   "source": [
    "# Pre-processing"
   ]
  },
  {
   "cell_type": "code",
   "execution_count": 2,
   "metadata": {
    "collapsed": false
   },
   "outputs": [],
   "source": [
    "def PreprocessDataset():\n",
    "    from sklearn import preprocessing\n",
    "    data = pd.read_csv('Data/cleaned_data.csv',index_col=False,low_memory=False)\n",
    "    data = data.reindex(np.random.permutation(data.index))\n",
    "    cols = data.columns\n",
    "    x_columns = cols.drop(\"match_result\")\n",
    "    \n",
    "    x = data[x_columns]\n",
    "    y = data['match_result']\n",
    "    \n",
    "    train_max_row = int(data.shape[0]*0.9)\n",
    "    \n",
    "    x_train = x.iloc[:train_max_row]\n",
    "    x_test = x.iloc[train_max_row:]\n",
    "    \n",
    "    y_train = y.iloc[:train_max_row]\n",
    "    y_test = y.iloc[train_max_row:]\n",
    "    \n",
    "    y_train = np_utils.to_categorical(y_train)\n",
    "    y_test = np_utils.to_categorical(y_test)\n",
    "    \n",
    "    ################Pre-processing###########\n",
    "    x_train = preprocessing.scale(x_train)\n",
    "    x_test = preprocessing.scale(x_test)\n",
    "    \n",
    "    return x_train, x_test, y_train, y_test\n",
    "\n",
    "x_train, x_test, y_train, y_test = PreprocessDataset()"
   ]
  },
  {
   "cell_type": "code",
   "execution_count": 3,
   "metadata": {
    "collapsed": false
   },
   "outputs": [
    {
     "data": {
      "text/plain": [
       "(19917, 3)"
      ]
     },
     "execution_count": 3,
     "metadata": {},
     "output_type": "execute_result"
    }
   ],
   "source": [
    "'''\n",
    "data = pd.read_csv('Data/cleaned_data.csv',index_col=False,low_memory=False)\n",
    "data = data.reindex(np.random.permutation(data.index))\n",
    "cols = data.columns\n",
    "x_columns = cols.drop(\"match_result\")\n",
    "y = data['match_result']\n",
    "x = data[x_columns]\n",
    "\n",
    "type(x)\n",
    "'''\n",
    "y_train.shape\n"
   ]
  },
  {
   "cell_type": "code",
   "execution_count": 4,
   "metadata": {
    "collapsed": false
   },
   "outputs": [],
   "source": [
    "def DefineModel():\n",
    "\n",
    "    ################################################################\n",
    "    # Activity 2 (Network Structure):\n",
    "    # Group A: uses only 1 layer\n",
    "    # second_layer_width = 0\n",
    "    #\n",
    "    # Group B: uses 2 layers of a tower-shaped (same width) network.\n",
    "    # second_layer_width = 128\n",
    "    #\n",
    "    # Group C: uses 2 layers of a pyramid-shaped (shrink width) network.\n",
    "    # second_layer_width = 64\n",
    "    ################################################################\n",
    "    first_layer_width = 128\n",
    "    second_layer_width = 64   \n",
    "    \n",
    "    ################################################################\n",
    "    # Activity 3 (Activation Function):\n",
    "    # Group A uses ReLU.\n",
    "    # activation_func = 'relu' \n",
    "    # \n",
    "    # Group B uses Sigmoid.\n",
    "    # activation_func = 'sigmoid'\n",
    "    #\n",
    "    # Group C uses Tanh.\n",
    "    # activation_func = 'tanh'\n",
    "    ################################################################\n",
    "    activation_func = 'relu' \n",
    "\n",
    "    ################################################################    \n",
    "    # Activity 4 (Loss Function):\n",
    "    # Group A uses cross entropy.\n",
    "    # loss_function = 'categorical_crossentropy'\n",
    "    # \n",
    "    # Group B uses cross entropy.\n",
    "    # loss_function = 'categorical_crossentropy'\n",
    "    # \n",
    "    # Group C uses squared error.\n",
    "    # loss_function = 'mean_squared_error'\n",
    "    ################################################################    \n",
    "    loss_function = 'categorical_crossentropy'\n",
    "    #loss_function = 'mean_squared_error'\n",
    "    \n",
    "    #################################################################    \n",
    "    # Activity 5 (Dropout):\n",
    "    # Group A uses 0% dropout.\n",
    "    #\n",
    "    # Group B uses 50% dropout.\n",
    "    # dropout_rate = 0.5\n",
    "    #\n",
    "    # Group C uses 90% dropout.\n",
    "    # dropout_rate = 0.9\n",
    "    #################################################################    \n",
    "    dropout_rate = 0.4\n",
    "    \n",
    "    ################################################################    \n",
    "    # Activity 6 (Regularization):\n",
    "    # Group A uses L1 regularizer\n",
    "    # weight_regularizer = l1(0.01)\n",
    "    #\n",
    "    # Group B uses L2 regularizer\n",
    "    #weight_regularizer = l2(0.01)\n",
    "    # \n",
    "    # Group C uses no regularizer\n",
    "    # weight_regularizer = None\n",
    "    ################################################################\n",
    "    weight_regularizer = None\n",
    "\n",
    "    ################################################################    \n",
    "    # Activity 8 (Learning Rate):\n",
    "    # Group A uses learning rate of 0.1.\n",
    "    # learning_rate = 0.1\n",
    "    # \n",
    "    # Group B uses learning rate of 0.01.\n",
    "    # learning_rate = 0.01\n",
    "    #\n",
    "    # Group C uses learning rate of 0.5.    \n",
    "    # learning_rate = 0.5\n",
    "    ################################################################\n",
    "    learning_rate = 0.005\n",
    "    \n",
    "    ## Initialize model.\n",
    "    model = Sequential()\n",
    "\n",
    "    ## First hidden layer with 'first_layer_width' neurons. \n",
    "    ## Also need to specify input dimension.\n",
    "    ## 'Dense' means fully-connected.\n",
    "    model.add(Dense(1, input_dim=52, W_regularizer=weight_regularizer))\n",
    "    model.add(Activation(activation_func))\n",
    "    \n",
    "    model.add(Dropout(dropout_rate))\n",
    "    \n",
    "    model.add(Dense(32))\n",
    "    model.add(Activation(activation_func))   \n",
    "    model.add(Dropout(dropout_rate))\n",
    "    \n",
    "    model.add(Dense(16))\n",
    "    model.add(Activation(activation_func))   \n",
    "    model.add(Dropout(dropout_rate))\n",
    "    \n",
    "    model.add(Dense(8))\n",
    "    model.add(Activation(activation_func))   \n",
    "    model.add(Dropout(dropout_rate))\n",
    "\n",
    "    \n",
    "    \n",
    "    ## Last layer has the same dimension as the number of classes\n",
    "    model.add(Dense(3))\n",
    "    ## For classification, the activation is softmax\n",
    "    model.add(Activation('softmax'))\n",
    "    ## Define optimizer. In this tutorial/codelab, we select SGD.\n",
    "    ## You can also use other methods, e.g., opt = RMSprop()\n",
    "    opt = Adam(lr=learning_rate, beta_1=0.9, beta_2=0.999, epsilon=1e-08, decay=0.0)\n",
    "    #opt = SGD(lr=learning_rate, clipnorm=5.)\n",
    "    ## Define loss function = 'categorical_crossentropy' or 'mean_squared_error'\n",
    "    model.compile(loss=loss_function, optimizer=opt, metrics=[\"accuracy\"])\n",
    "\n",
    "    return model"
   ]
  },
  {
   "cell_type": "code",
   "execution_count": 5,
   "metadata": {
    "collapsed": true
   },
   "outputs": [],
   "source": [
    "def TrainModel(data=None, epochs=20):\n",
    "    ################################################################\n",
    "    # Activity 7 (Mini-batch):\n",
    "    # Group A uses mini-batch of size 128.\n",
    "    # batch = 128\n",
    "    #\n",
    "    # Group B uses mini-batch of size 256.\n",
    "    # batch = 256\n",
    "    # \n",
    "    # Group C uses mini-batch of size 512.\n",
    "    # batch = 512\n",
    "    ################################################################\n",
    "    batch=128\n",
    "    start_time = time.time()\n",
    "    model = DefineModel()\n",
    "    if data is None:\n",
    "        print(\"Must provide data.\")\n",
    "        return\n",
    "    x_train, x_test, y_train, y_test = data\n",
    "    print('Start training.')\n",
    "    ## Use the first 55,000 (out of 60,000) samples to train, last 5,500 samples to validate.\n",
    "    history = model.fit(x_train[:17500], y_train[:17500], nb_epoch=epochs, batch_size=batch,\n",
    "              validation_data=(x_train[17500:], y_train[17500:]))\n",
    "    print(\"Training took {0} seconds.\".format(time.time() - start_time))\n",
    "    return model, history"
   ]
  },
  {
   "cell_type": "code",
   "execution_count": 6,
   "metadata": {
    "collapsed": false
   },
   "outputs": [
    {
     "name": "stdout",
     "output_type": "stream",
     "text": [
      "Start training.\n",
      "Train on 17500 samples, validate on 2417 samples\n",
      "Epoch 1/50\n",
      "17500/17500 [==============================] - 0s - loss: 1.0568 - acc: 0.4465 - val_loss: 1.0244 - val_acc: 0.4530\n",
      "Epoch 2/50\n",
      "17500/17500 [==============================] - 0s - loss: 1.0299 - acc: 0.4569 - val_loss: 1.0164 - val_acc: 0.4530\n",
      "Epoch 3/50\n",
      "17500/17500 [==============================] - 0s - loss: 1.0276 - acc: 0.4596 - val_loss: 1.0134 - val_acc: 0.4530\n",
      "Epoch 4/50\n",
      "17500/17500 [==============================] - 0s - loss: 1.0246 - acc: 0.4788 - val_loss: 1.0075 - val_acc: 0.5275\n",
      "Epoch 5/50\n",
      "17500/17500 [==============================] - 0s - loss: 1.0225 - acc: 0.4966 - val_loss: 1.0102 - val_acc: 0.5225\n",
      "Epoch 6/50\n",
      "17500/17500 [==============================] - 0s - loss: 1.0176 - acc: 0.5124 - val_loss: 1.0181 - val_acc: 0.5312\n",
      "Epoch 7/50\n",
      "17500/17500 [==============================] - 0s - loss: 1.0164 - acc: 0.5111 - val_loss: 0.9976 - val_acc: 0.5263\n",
      "Epoch 8/50\n",
      "17500/17500 [==============================] - 0s - loss: 1.0166 - acc: 0.5167 - val_loss: 1.0120 - val_acc: 0.5246\n",
      "Epoch 9/50\n",
      "17500/17500 [==============================] - 0s - loss: 1.0173 - acc: 0.5150 - val_loss: 1.0177 - val_acc: 0.5205\n",
      "Epoch 10/50\n",
      "17500/17500 [==============================] - 0s - loss: 1.0170 - acc: 0.5131 - val_loss: 1.0022 - val_acc: 0.5300\n",
      "Epoch 11/50\n",
      "17500/17500 [==============================] - 0s - loss: 1.0116 - acc: 0.5179 - val_loss: 1.0075 - val_acc: 0.5304\n",
      "Epoch 12/50\n",
      "17500/17500 [==============================] - 0s - loss: 1.0149 - acc: 0.5153 - val_loss: 1.0014 - val_acc: 0.5288\n",
      "Epoch 13/50\n",
      "17500/17500 [==============================] - 0s - loss: 1.0136 - acc: 0.5179 - val_loss: 1.0217 - val_acc: 0.5308\n",
      "Epoch 14/50\n",
      "17500/17500 [==============================] - 0s - loss: 1.0130 - acc: 0.5204 - val_loss: 1.0127 - val_acc: 0.5271\n",
      "Epoch 15/50\n",
      "17500/17500 [==============================] - 0s - loss: 1.0137 - acc: 0.5156 - val_loss: 1.0273 - val_acc: 0.5217\n",
      "Epoch 16/50\n",
      "17500/17500 [==============================] - 0s - loss: 1.0112 - acc: 0.5175 - val_loss: 1.0108 - val_acc: 0.5213\n",
      "Epoch 17/50\n",
      "17500/17500 [==============================] - 0s - loss: 1.0138 - acc: 0.5146 - val_loss: 1.0044 - val_acc: 0.5292\n",
      "Epoch 18/50\n",
      "17500/17500 [==============================] - 0s - loss: 1.0149 - acc: 0.5199 - val_loss: 0.9995 - val_acc: 0.5267\n",
      "Epoch 19/50\n",
      "17500/17500 [==============================] - 0s - loss: 1.0159 - acc: 0.5158 - val_loss: 1.0068 - val_acc: 0.5283\n",
      "Epoch 20/50\n",
      "17500/17500 [==============================] - 0s - loss: 1.0131 - acc: 0.5181 - val_loss: 0.9961 - val_acc: 0.5271\n",
      "Epoch 21/50\n",
      "17500/17500 [==============================] - 0s - loss: 1.0102 - acc: 0.5165 - val_loss: 1.0081 - val_acc: 0.5263\n",
      "Epoch 22/50\n",
      "17500/17500 [==============================] - 0s - loss: 1.0149 - acc: 0.5152 - val_loss: 1.0179 - val_acc: 0.5288\n",
      "Epoch 23/50\n",
      "17500/17500 [==============================] - 0s - loss: 1.0120 - acc: 0.5194 - val_loss: 1.0038 - val_acc: 0.5275\n",
      "Epoch 24/50\n",
      "17500/17500 [==============================] - 0s - loss: 1.0118 - acc: 0.5201 - val_loss: 1.0066 - val_acc: 0.5242\n",
      "Epoch 25/50\n",
      "17500/17500 [==============================] - 0s - loss: 1.0129 - acc: 0.5186 - val_loss: 1.0002 - val_acc: 0.5275\n",
      "Epoch 26/50\n",
      "17500/17500 [==============================] - 0s - loss: 1.0104 - acc: 0.5160 - val_loss: 1.0076 - val_acc: 0.5312\n",
      "Epoch 27/50\n",
      "17500/17500 [==============================] - 0s - loss: 1.0127 - acc: 0.5169 - val_loss: 0.9912 - val_acc: 0.5317\n",
      "Epoch 28/50\n",
      "17500/17500 [==============================] - 0s - loss: 1.0102 - acc: 0.5168 - val_loss: 0.9975 - val_acc: 0.5329\n",
      "Epoch 29/50\n",
      "17500/17500 [==============================] - 0s - loss: 1.0108 - acc: 0.5166 - val_loss: 1.0062 - val_acc: 0.5296\n",
      "Epoch 30/50\n",
      "17500/17500 [==============================] - 0s - loss: 1.0116 - acc: 0.5176 - val_loss: 1.0108 - val_acc: 0.5275\n",
      "Epoch 31/50\n",
      "17500/17500 [==============================] - 0s - loss: 1.0115 - acc: 0.5179 - val_loss: 1.0016 - val_acc: 0.5308\n",
      "Epoch 32/50\n",
      "17500/17500 [==============================] - 0s - loss: 1.0110 - acc: 0.5186 - val_loss: 0.9996 - val_acc: 0.5358\n",
      "Epoch 33/50\n",
      "17500/17500 [==============================] - 0s - loss: 1.0109 - acc: 0.5177 - val_loss: 1.0017 - val_acc: 0.5333\n",
      "Epoch 34/50\n",
      "17500/17500 [==============================] - 0s - loss: 1.0107 - acc: 0.5212 - val_loss: 1.0003 - val_acc: 0.5300\n",
      "Epoch 35/50\n",
      "17500/17500 [==============================] - 0s - loss: 1.0080 - acc: 0.5159 - val_loss: 0.9906 - val_acc: 0.5337\n",
      "Epoch 36/50\n",
      "17500/17500 [==============================] - 0s - loss: 1.0108 - acc: 0.5197 - val_loss: 1.0142 - val_acc: 0.5283\n",
      "Epoch 37/50\n",
      "17500/17500 [==============================] - 0s - loss: 1.0101 - acc: 0.5201 - val_loss: 1.0026 - val_acc: 0.5308\n",
      "Epoch 38/50\n",
      "17500/17500 [==============================] - 0s - loss: 1.0089 - acc: 0.5193 - val_loss: 0.9945 - val_acc: 0.5300\n",
      "Epoch 39/50\n",
      "17500/17500 [==============================] - 0s - loss: 1.0094 - acc: 0.5199 - val_loss: 1.0026 - val_acc: 0.5288\n",
      "Epoch 40/50\n",
      "17500/17500 [==============================] - 0s - loss: 1.0080 - acc: 0.5198 - val_loss: 1.0073 - val_acc: 0.5172\n",
      "Epoch 41/50\n",
      "17500/17500 [==============================] - 0s - loss: 1.0090 - acc: 0.5170 - val_loss: 0.9986 - val_acc: 0.5242\n",
      "Epoch 42/50\n",
      "17500/17500 [==============================] - 0s - loss: 1.0076 - acc: 0.5168 - val_loss: 1.0047 - val_acc: 0.5238\n",
      "Epoch 43/50\n",
      "17500/17500 [==============================] - 0s - loss: 1.0065 - acc: 0.5219 - val_loss: 1.0040 - val_acc: 0.5230\n",
      "Epoch 44/50\n",
      "17500/17500 [==============================] - 0s - loss: 1.0076 - acc: 0.5217 - val_loss: 1.0025 - val_acc: 0.5279\n",
      "Epoch 45/50\n",
      "17500/17500 [==============================] - 0s - loss: 1.0096 - acc: 0.5194 - val_loss: 1.0018 - val_acc: 0.5246\n",
      "Epoch 46/50\n",
      "17500/17500 [==============================] - 0s - loss: 1.0097 - acc: 0.5196 - val_loss: 0.9969 - val_acc: 0.5271\n",
      "Epoch 47/50\n",
      "17500/17500 [==============================] - 0s - loss: 1.0068 - acc: 0.5182 - val_loss: 0.9939 - val_acc: 0.5263\n",
      "Epoch 48/50\n",
      "17500/17500 [==============================] - 0s - loss: 1.0057 - acc: 0.5171 - val_loss: 1.0035 - val_acc: 0.5246\n",
      "Epoch 49/50\n",
      "17500/17500 [==============================] - 0s - loss: 1.0069 - acc: 0.5186 - val_loss: 1.0048 - val_acc: 0.5151\n",
      "Epoch 50/50\n",
      "17500/17500 [==============================] - 0s - loss: 1.0082 - acc: 0.5185 - val_loss: 0.9929 - val_acc: 0.5259\n",
      "Training took 21.5696589947 seconds.\n"
     ]
    }
   ],
   "source": [
    "trained_model, training_history = TrainModel(data=[x_train, x_test, y_train, y_test],epochs = 50)"
   ]
  },
  {
   "cell_type": "code",
   "execution_count": 7,
   "metadata": {
    "collapsed": false
   },
   "outputs": [],
   "source": [
    "def PlotHistory(train_value, test_value, value_is_loss_or_acc):\n",
    "    f, ax = plt.subplots()\n",
    "    ax.plot([None] + train_value, 'o-')\n",
    "    ax.plot([None] + test_value, 'x-')\n",
    "    ## Plot legend and use the best location automatically: loc = 0.\n",
    "    ax.legend(['Train ' + value_is_loss_or_acc, 'Validation ' + value_is_loss_or_acc], loc = 0) \n",
    "    ax.set_title('Training/Validation ' + value_is_loss_or_acc + ' per Epoch')\n",
    "    ax.set_xlabel('Epoch')\n",
    "    ax.set_ylabel(value_is_loss_or_acc)  \n",
    "    \n"
   ]
  },
  {
   "cell_type": "code",
   "execution_count": 8,
   "metadata": {
    "collapsed": false
   },
   "outputs": [
    {
     "data": {
      "image/png": "[encoded data removed]",
      "text/plain": [
       "<matplotlib.figure.Figure at 0x7f9bfffdc210>"
      ]
     },
     "metadata": {},
     "output_type": "display_data"
    },
    {
     "data": {
      "image/png": "[encoded data removed]",
      "text/plain": [
       "<matplotlib.figure.Figure at 0x7f9bfffdc250>"
      ]
     },
     "metadata": {},
     "output_type": "display_data"
    }
   ],
   "source": [
    "    \n",
    "PlotHistory(training_history.history['loss'], training_history.history['val_loss'], 'Loss')\n",
    "PlotHistory(training_history.history['acc'], training_history.history['val_acc'], 'Accuracy')"
   ]
  },
  {
   "cell_type": "code",
   "execution_count": 9,
   "metadata": {
    "collapsed": true
   },
   "outputs": [],
   "source": [
    "def drawWeightHistogram(x):\n",
    "    ## the histogram of the data\n",
    "    fig = plt.subplots()\n",
    "    n, bins, patches = plt.hist(x, 50)\n",
    "    plt.xlim(-0.5, 0.5)\n",
    "    plt.xlabel('Weight')\n",
    "    plt.ylabel('Count')\n",
    "    zero_counts = (x == 0.0).sum()\n",
    "    plt.title(\"Weight Histogram. Num of '0's: %d\" % zero_counts)"
   ]
  },
  {
   "cell_type": "code",
   "execution_count": 10,
   "metadata": {
    "collapsed": false
   },
   "outputs": [
    {
     "data": {
      "image/png": "[encoded data removed]",
      "text/plain": [
       "<matplotlib.figure.Figure at 0x7f9bfc687e50>"
      ]
     },
     "metadata": {},
     "output_type": "display_data"
    }
   ],
   "source": [
    "w1 = trained_model.layers[0].get_weights()[0].flatten()\n",
    "drawWeightHistogram(w1)"
   ]
  },
  {
   "cell_type": "code",
   "execution_count": 11,
   "metadata": {
    "collapsed": true
   },
   "outputs": [],
   "source": [
    "def TestModel(model=None, data=None):\n",
    "    if model is None:\n",
    "        print(\"Must provide a trained model.\")\n",
    "        return\n",
    "    if data is None:\n",
    "        print(\"Must provide data.\")\n",
    "        return\n",
    "    x_test, y_test = data\n",
    "    scores = model.evaluate(x_test, y_test)\n",
    "    return scores"
   ]
  },
  {
   "cell_type": "code",
   "execution_count": 12,
   "metadata": {
    "collapsed": false
   },
   "outputs": [
    {
     "name": "stdout",
     "output_type": "stream",
     "text": [
      "1984/2213 [=========================>....] - ETA: 0sTest loss 0.9924, accuracy 53.19%\n"
     ]
    }
   ],
   "source": [
    "test_score = TestModel(model=trained_model, data=[x_test, y_test])\n",
    "print(\"Test loss {:.4f}, accuracy {:.2f}%\".format(test_score[0], test_score[1] * 100))"
   ]
  }
 ],
 "metadata": {
  "anaconda-cloud": {},
  "kernelspec": {
   "display_name": "Python [conda root]",
   "language": "python",
   "name": "conda-root-py"
  },
  "language_info": {
   "codemirror_mode": {
    "name": "ipython",
    "version": 2
   },
   "file_extension": ".py",
   "mimetype": "text/x-python",
   "name": "python",
   "nbconvert_exporter": "python",
   "pygments_lexer": "ipython2",
   "version": "2.7.12"
  }
 },
 "nbformat": 4,
 "nbformat_minor": 1
}
