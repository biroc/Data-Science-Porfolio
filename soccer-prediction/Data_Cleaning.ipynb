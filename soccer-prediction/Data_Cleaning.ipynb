{
 "cells": [
  {
   "cell_type": "code",
   "execution_count": 1,
   "metadata": {
    "collapsed": true
   },
   "outputs": [],
   "source": [
    "import pandas as pd\n",
    "import numpy as np\n",
    "import sqlite3\n",
    "\n",
    "path = 'Data/soccer.sqlite'\n",
    "conn = sqlite3.connect(path)"
   ]
  },
  {
   "cell_type": "code",
   "execution_count": 2,
   "metadata": {
    "collapsed": false
   },
   "outputs": [],
   "source": [
    "################################################################################\n",
    "#######################Read Raw Data from DB####################################\n",
    "################################################################################\n",
    "\n",
    "data_matchResult = pd.read_sql('SELECT country_id, league_id, season, date,\\\n",
    "                                home_team_api_id, away_team_api_id, home_team_goal, away_team_goal,\\\n",
    "                                B365H, B365D, B365A, BWH, BWD, BWA, IWH, IWD, IWA,\\\n",
    "                                LBH, LBD, LBA, WHH, WHD, WHA, VCH, VCD, VCA FROM Match',conn)\n",
    "                                \n",
    "data_country = pd.read_sql('SELECT * From Country',conn)\n",
    "data_team = pd.read_sql('SELECT team_api_id, date, buildUpPlaySpeed, buildUpPlayPassing,\\\n",
    "                         chanceCreationPassing, chanceCreationCrossing, chanceCreationShooting,\\\n",
    "                         defencePressure, defenceAggression, defenceTeamWidth From Team_Attributes' ,conn)\n"
   ]
  },
  {
   "cell_type": "markdown",
   "metadata": {
    "collapsed": false
   },
   "source": [
    "# Condensing Data"
   ]
  },
  {
   "cell_type": "code",
   "execution_count": 3,
   "metadata": {
    "collapsed": false
   },
   "outputs": [],
   "source": [
    "################################################################################\n",
    "#######################Merge Team Attribute to Mach Result######################\n",
    "################################################################################\n",
    "\n",
    "\n",
    "#######Filter Function#########\n",
    "def mask(df, key, value):\n",
    "    return df[df[key] == value]\n",
    "pd.DataFrame.mask = mask\n",
    "###############################\n",
    "\n",
    "\n",
    "################################################################################\n",
    "###################Generate Homd/Away Team Attribute############################\n",
    "\n",
    "for index, row in data_team.iterrows():\n",
    "    data_team.ix[index,'date'] = int(data_team.ix[index,'date'][:4])\n",
    "\n",
    "    \n",
    "for index, row in data_matchResult.iterrows():\n",
    "    data_matchResult.ix[index, 'date'] = int(data_matchResult.ix[index,'date'][:4])\n",
    "\n",
    "data_team = data_team.dropna()\n",
    "data_awayTeam = data_team\n",
    "data_homeTeam = data_team\n",
    "away_name = {}\n",
    "home_name = {}\n",
    "\n",
    "for c in data_awayTeam.columns:\n",
    "    name = 'away_' + str(c)\n",
    "    away_name[c] = name\n",
    "    \n",
    "for c in data_homeTeam.columns:\n",
    "    name = 'home_' + str(c)\n",
    "    home_name[c] = name\n",
    "    \n",
    "away_name['date'] = 'date'\n",
    "home_name['date'] = 'date'\n",
    "\n",
    "data_awayTeam = data_awayTeam.rename(columns = away_name)\n",
    "data_homeTeam = data_homeTeam.rename(columns = home_name)\n",
    "\n",
    "data_matchResult = data_matchResult.dropna()\n",
    "\n"
   ]
  },
  {
   "cell_type": "code",
   "execution_count": 4,
   "metadata": {
    "collapsed": false
   },
   "outputs": [
    {
     "name": "stdout",
     "output_type": "stream",
     "text": [
      "<class 'pandas.core.frame.DataFrame'>\n",
      "Int64Index: 22432 entries, 0 to 24556\n",
      "Data columns (total 26 columns):\n",
      "country_id          22432 non-null int64\n",
      "league_id           22432 non-null int64\n",
      "season              22432 non-null object\n",
      "date                22432 non-null object\n",
      "home_team_api_id    22432 non-null int64\n",
      "away_team_api_id    22432 non-null int64\n",
      "home_team_goal      22432 non-null int64\n",
      "away_team_goal      22432 non-null int64\n",
      "B365H               22432 non-null float64\n",
      "B365D               22432 non-null float64\n",
      "B365A               22432 non-null float64\n",
      "BWH                 22432 non-null float64\n",
      "BWD                 22432 non-null float64\n",
      "BWA                 22432 non-null float64\n",
      "IWH                 22432 non-null float64\n",
      "IWD                 22432 non-null float64\n",
      "IWA                 22432 non-null float64\n",
      "LBH                 22432 non-null float64\n",
      "LBD                 22432 non-null float64\n",
      "LBA                 22432 non-null float64\n",
      "WHH                 22432 non-null float64\n",
      "WHD                 22432 non-null float64\n",
      "WHA                 22432 non-null float64\n",
      "VCH                 22432 non-null float64\n",
      "VCD                 22432 non-null float64\n",
      "VCA                 22432 non-null float64\n",
      "dtypes: float64(18), int64(6), object(2)\n",
      "memory usage: 4.6+ MB\n"
     ]
    }
   ],
   "source": [
    "data_matchResult.info()"
   ]
  },
  {
   "cell_type": "markdown",
   "metadata": {},
   "source": [
    "# Merging Dataset"
   ]
  },
  {
   "cell_type": "code",
   "execution_count": 5,
   "metadata": {
    "collapsed": false
   },
   "outputs": [],
   "source": [
    "################################################################################\n",
    "###################Merge Home/Teamm Attribute to Match Reslt####################\n",
    "\n",
    "\n",
    "full = data_matchResult\n",
    "full = pd.merge(full, data_homeTeam, how = 'left', on = ['date', 'home_team_api_id'] )\n",
    "\n",
    "################################################################################\n",
    "#########Fill the missing season team data with average team data###############\n",
    "full = full.groupby(\"home_team_api_id\").transform(lambda x: x.fillna(x.mean()))\n",
    "\n",
    "full = pd.merge(full, data_awayTeam, how = 'left', on = ['date', 'away_team_api_id'] )\n",
    "full = full.groupby(\"away_team_api_id\").transform(lambda x: x.fillna(x.mean()))"
   ]
  },
  {
   "cell_type": "markdown",
   "metadata": {},
   "source": [
    "# Unifying feature; Droping Nan data"
   ]
  },
  {
   "cell_type": "code",
   "execution_count": 6,
   "metadata": {
    "collapsed": false
   },
   "outputs": [
    {
     "name": "stderr",
     "output_type": "stream",
     "text": [
      "/home/dawei/anaconda2/lib/python2.7/site-packages/ipykernel/__main__.py:3: FutureWarning: convert_objects is deprecated.  Use the data-type specific converters pd.to_datetime, pd.to_timedelta and pd.to_numeric.\n",
      "  app.launch_new_instance()\n"
     ]
    }
   ],
   "source": [
    "################################################################################\n",
    "#################Unifying Data,convert objective columns to numerical###########\n",
    "full = full.convert_objects(convert_numeric=True)\n",
    "\n",
    "################################################################################\n",
    "###########################Drop unnecessary columns#############################\n",
    "\n",
    "full = full.drop(labels = ['date'], axis=1)\n",
    "full = full.dropna()\n"
   ]
  },
  {
   "cell_type": "code",
   "execution_count": 7,
   "metadata": {
    "collapsed": false
   },
   "outputs": [],
   "source": [
    "################################################################################\n",
    "###########################Adding match Result##################################\n",
    "sLength = len(full)\n",
    "full['match_result'] = pd.Series(np.random.randn(sLength), index=full.index)\n",
    "#full['match_result'] = full['match_result'].astype(object)\n",
    "\n",
    "for index, row in full.iterrows():\n",
    "    homeGoal = full.ix[index,'home_team_goal']\n",
    "    awayGoal = full.ix[index,'away_team_goal']\n",
    "    \n",
    "    if homeGoal > awayGoal:\n",
    "        full.set_value(index,'match_result',0)\n",
    "    elif homeGoal == awayGoal:\n",
    "        full.set_value(index,'match_result',1)\n",
    "    elif homeGoal < awayGoal:\n",
    "        full.set_value(index,'match_result',2)\n",
    "    \n"
   ]
  },
  {
   "cell_type": "markdown",
   "metadata": {
    "collapsed": false
   },
   "source": [
    "# Deleting leak feature\n"
   ]
  },
  {
   "cell_type": "code",
   "execution_count": 8,
   "metadata": {
    "collapsed": false
   },
   "outputs": [],
   "source": [
    "full = full.drop(labels = ['home_team_goal','away_team_goal'], axis=1)"
   ]
  },
  {
   "cell_type": "markdown",
   "metadata": {},
   "source": [
    "# Cleaning One-hot features"
   ]
  },
  {
   "cell_type": "code",
   "execution_count": 9,
   "metadata": {
    "collapsed": false
   },
   "outputs": [
    {
     "data": {
      "text/plain": [
       "Index([u'country_id', u'league_id', u'B365H', u'B365D', u'B365A', u'BWH',\n",
       "       u'BWD', u'BWA', u'IWH', u'IWD', u'IWA', u'LBH', u'LBD', u'LBA', u'WHH',\n",
       "       u'WHD', u'WHA', u'VCH', u'VCD', u'VCA', u'home_buildUpPlaySpeed',\n",
       "       u'home_buildUpPlayPassing', u'home_chanceCreationPassing',\n",
       "       u'home_chanceCreationCrossing', u'home_chanceCreationShooting',\n",
       "       u'home_defencePressure', u'home_defenceAggression',\n",
       "       u'home_defenceTeamWidth', u'away_buildUpPlaySpeed',\n",
       "       u'away_buildUpPlayPassing', u'away_chanceCreationPassing',\n",
       "       u'away_chanceCreationCrossing', u'away_chanceCreationShooting',\n",
       "       u'away_defencePressure', u'away_defenceAggression',\n",
       "       u'away_defenceTeamWidth', u'match_result'],\n",
       "      dtype='object')"
      ]
     },
     "execution_count": 9,
     "metadata": {},
     "output_type": "execute_result"
    }
   ],
   "source": [
    "full.columns"
   ]
  },
  {
   "cell_type": "code",
   "execution_count": 10,
   "metadata": {
    "collapsed": false
   },
   "outputs": [],
   "source": [
    "col=['country_id','league_id']\n",
    "for c in col:\n",
    "    full[c]=full[c].astype('category')\n",
    "dummy_df=pd.get_dummies(full[col])\n",
    "full=pd.concat([full,dummy_df],axis=1)\n",
    "dummy_df.head()\n",
    "full = full.drop(col, axis=1)"
   ]
  },
  {
   "cell_type": "markdown",
   "metadata": {},
   "source": [
    "# Cheack Na Value"
   ]
  },
  {
   "cell_type": "code",
   "execution_count": 11,
   "metadata": {
    "collapsed": false
   },
   "outputs": [
    {
     "data": {
      "text/plain": [
       "0"
      ]
     },
     "execution_count": 11,
     "metadata": {},
     "output_type": "execute_result"
    }
   ],
   "source": [
    "full.isnull().sum().sum()\n"
   ]
  },
  {
   "cell_type": "code",
   "execution_count": 15,
   "metadata": {
    "collapsed": false
   },
   "outputs": [
    {
     "data": {
      "text/plain": [
       "B365H                          0.338702\n",
       "B365D                         -0.171930\n",
       "B365A                         -0.326991\n",
       "BWH                            0.342053\n",
       "BWD                           -0.171625\n",
       "BWA                           -0.329959\n",
       "IWH                            0.344788\n",
       "IWD                           -0.180279\n",
       "IWA                           -0.336056\n",
       "LBH                            0.336690\n",
       "LBD                           -0.166467\n",
       "LBA                           -0.321638\n",
       "WHH                            0.336399\n",
       "WHD                           -0.171479\n",
       "WHA                           -0.319590\n",
       "VCH                            0.328295\n",
       "VCD                           -0.168042\n",
       "VCA                           -0.309846\n",
       "home_buildUpPlaySpeed          0.005148\n",
       "home_buildUpPlayPassing        0.076719\n",
       "home_chanceCreationPassing    -0.025010\n",
       "home_chanceCreationCrossing   -0.016267\n",
       "home_chanceCreationShooting   -0.047971\n",
       "home_defencePressure          -0.077348\n",
       "home_defenceAggression        -0.030248\n",
       "home_defenceTeamWidth         -0.031890\n",
       "away_buildUpPlaySpeed          0.000361\n",
       "away_buildUpPlayPassing       -0.061252\n",
       "away_chanceCreationPassing     0.022083\n",
       "away_chanceCreationCrossing    0.023624\n",
       "away_chanceCreationShooting    0.038958\n",
       "away_defencePressure           0.086701\n",
       "away_defenceAggression         0.042447\n",
       "away_defenceTeamWidth          0.037931\n",
       "match_result                   1.000000\n",
       "country_id_1                  -0.002532\n",
       "country_id_1729               -0.001141\n",
       "country_id_4769               -0.003630\n",
       "country_id_7809                0.009848\n",
       "country_id_10257              -0.013106\n",
       "country_id_13274              -0.010248\n",
       "country_id_17642               0.015042\n",
       "country_id_19694               0.031180\n",
       "country_id_21518              -0.017268\n",
       "league_id_1                   -0.002532\n",
       "league_id_1729                -0.001141\n",
       "league_id_4769                -0.003630\n",
       "league_id_7809                 0.009848\n",
       "league_id_10257               -0.013106\n",
       "league_id_13274               -0.010248\n",
       "league_id_17642                0.015042\n",
       "league_id_19694                0.031180\n",
       "league_id_21518               -0.017268\n",
       "Name: match_result, dtype: float64"
      ]
     },
     "execution_count": 15,
     "metadata": {},
     "output_type": "execute_result"
    }
   ],
   "source": [
    "full.corr().match_result"
   ]
  },
  {
   "cell_type": "markdown",
   "metadata": {},
   "source": [
    "# Saving Clean Data to CSV file"
   ]
  },
  {
   "cell_type": "code",
   "execution_count": 16,
   "metadata": {
    "collapsed": true
   },
   "outputs": [],
   "source": [
    "full.to_csv('Processed/cleaned_data.csv', index=False,low_memory=False)"
   ]
  }
 ],
 "metadata": {
  "anaconda-cloud": {},
  "kernelspec": {
   "display_name": "Python [conda root]",
   "language": "python",
   "name": "conda-root-py"
  },
  "language_info": {
   "codemirror_mode": {
    "name": "ipython",
    "version": 2
   },
   "file_extension": ".py",
   "mimetype": "text/x-python",
   "name": "python",
   "nbconvert_exporter": "python",
   "pygments_lexer": "ipython2",
   "version": "2.7.12"
  }
 },
 "nbformat": 4,
 "nbformat_minor": 1
}
