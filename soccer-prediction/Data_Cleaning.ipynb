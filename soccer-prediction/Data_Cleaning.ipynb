{
 "cells": [
  {
   "cell_type": "markdown",
   "metadata": {
    "collapsed": true
   },
   "source": [
    "# Codelab for Data Cleaning\n",
    "\n",
    "### Background Information\n",
    "\n",
    "1.Data from 2008-2016 10 European countary top league\n",
    "\n",
    "2.Match result includes date,home team, away team, bet odds for several website.\n",
    "\n",
    "3.Not pass game result history data in the data set\n",
    "\n",
    "4.The prediction mainly depends on the pre-game bet odds shown in the match result data\n",
    "\n",
    "5.By aggregating data by district, we can use the district mapping data to plot district-by-district differences.\n",
    "\n",
    "### Index\n",
    "\n",
    "1. [Input Data](#Input-Data)\n",
    "2. [Condensing Data](#Condensing-Data)\n",
    "3. [Merging Dataset](#Merging-Dataset)\n",
    "4. [Unifying Feature](#Unifying-feature)\n",
    "5. [Deleting Leak Features](#Deleting-Leak-Feature)\n",
    "6. [Cleaning One Hot Features](#Cleaning-One-hot-features)\n",
    "7. [Correlation Between Bet Odd and Match Result](#Correlation-Between-Bet-Odd-and-Match-Result)\n",
    "8. [Saving Data to CSV File](#Saving-Data-to-CSV-File)"
   ]
  },
  {
   "cell_type": "code",
   "execution_count": 19,
   "metadata": {
    "collapsed": true
   },
   "outputs": [],
   "source": [
    "import pandas as pd\n",
    "import numpy as np\n",
    "import sqlite3\n",
    "%matplotlib inline\n",
    "path = 'Data/soccer.sqlite'\n",
    "conn = sqlite3.connect(path)"
   ]
  },
  {
   "cell_type": "markdown",
   "metadata": {},
   "source": [
    "## Input Data"
   ]
  },
  {
   "cell_type": "code",
   "execution_count": 2,
   "metadata": {
    "collapsed": false
   },
   "outputs": [],
   "source": [
    "################################################################################\n",
    "#######################Read Raw Data from DB####################################\n",
    "################################################################################\n",
    "\n",
    "data_matchResult = pd.read_sql('SELECT country_id, league_id, season, date,\\\n",
    "                                home_team_api_id, away_team_api_id, home_team_goal, away_team_goal,\\\n",
    "                                B365H, B365D, B365A, BWH, BWD, BWA, IWH, IWD, IWA,\\\n",
    "                                LBH, LBD, LBA, WHH, WHD, WHA, VCH, VCD, VCA FROM Match',conn)\n",
    "                                \n",
    "data_country = pd.read_sql('SELECT * From Country',conn)\n",
    "data_team = pd.read_sql('SELECT team_api_id, date, buildUpPlaySpeed, buildUpPlayPassing,\\\n",
    "                         chanceCreationPassing, chanceCreationCrossing, chanceCreationShooting,\\\n",
    "                         defencePressure, defenceAggression, defenceTeamWidth From Team_Attributes' ,conn)\n"
   ]
  },
  {
   "cell_type": "markdown",
   "metadata": {
    "collapsed": false
   },
   "source": [
    "## Condensing Data"
   ]
  },
  {
   "cell_type": "code",
   "execution_count": 3,
   "metadata": {
    "collapsed": false
   },
   "outputs": [],
   "source": [
    "################################################################################\n",
    "#######################Merge Team Attribute to Mach Result######################\n",
    "################################################################################\n",
    "\n",
    "\n",
    "#######Filter Function#########\n",
    "def mask(df, key, value):\n",
    "    return df[df[key] == value]\n",
    "pd.DataFrame.mask = mask\n",
    "###############################\n",
    "\n",
    "\n",
    "################################################################################\n",
    "###################Generate Homd/Away Team Attribute############################\n",
    "\n",
    "for index, row in data_team.iterrows():\n",
    "    data_team.ix[index,'date'] = int(data_team.ix[index,'date'][:4])\n",
    "\n",
    "    \n",
    "for index, row in data_matchResult.iterrows():\n",
    "    data_matchResult.ix[index, 'date'] = int(data_matchResult.ix[index,'date'][:4])\n",
    "\n",
    "data_team = data_team.dropna()\n",
    "data_awayTeam = data_team\n",
    "data_homeTeam = data_team\n",
    "away_name = {}\n",
    "home_name = {}\n",
    "\n",
    "for c in data_awayTeam.columns:\n",
    "    name = 'away_' + str(c)\n",
    "    away_name[c] = name\n",
    "    \n",
    "for c in data_homeTeam.columns:\n",
    "    name = 'home_' + str(c)\n",
    "    home_name[c] = name\n",
    "    \n",
    "away_name['date'] = 'date'\n",
    "home_name['date'] = 'date'\n",
    "\n",
    "data_awayTeam = data_awayTeam.rename(columns = away_name)\n",
    "data_homeTeam = data_homeTeam.rename(columns = home_name)\n",
    "\n",
    "data_matchResult = data_matchResult.dropna()\n",
    "\n"
   ]
  },
  {
   "cell_type": "code",
   "execution_count": 4,
   "metadata": {
    "collapsed": false
   },
   "outputs": [
    {
     "name": "stdout",
     "output_type": "stream",
     "text": [
      "<class 'pandas.core.frame.DataFrame'>\n",
      "Int64Index: 22432 entries, 0 to 24556\n",
      "Data columns (total 26 columns):\n",
      "country_id          22432 non-null int64\n",
      "league_id           22432 non-null int64\n",
      "season              22432 non-null object\n",
      "date                22432 non-null object\n",
      "home_team_api_id    22432 non-null int64\n",
      "away_team_api_id    22432 non-null int64\n",
      "home_team_goal      22432 non-null int64\n",
      "away_team_goal      22432 non-null int64\n",
      "B365H               22432 non-null float64\n",
      "B365D               22432 non-null float64\n",
      "B365A               22432 non-null float64\n",
      "BWH                 22432 non-null float64\n",
      "BWD                 22432 non-null float64\n",
      "BWA                 22432 non-null float64\n",
      "IWH                 22432 non-null float64\n",
      "IWD                 22432 non-null float64\n",
      "IWA                 22432 non-null float64\n",
      "LBH                 22432 non-null float64\n",
      "LBD                 22432 non-null float64\n",
      "LBA                 22432 non-null float64\n",
      "WHH                 22432 non-null float64\n",
      "WHD                 22432 non-null float64\n",
      "WHA                 22432 non-null float64\n",
      "VCH                 22432 non-null float64\n",
      "VCD                 22432 non-null float64\n",
      "VCA                 22432 non-null float64\n",
      "dtypes: float64(18), int64(6), object(2)\n",
      "memory usage: 4.6+ MB\n"
     ]
    }
   ],
   "source": [
    "data_matchResult.info()"
   ]
  },
  {
   "cell_type": "markdown",
   "metadata": {},
   "source": [
    "## Merging Dataset"
   ]
  },
  {
   "cell_type": "code",
   "execution_count": 5,
   "metadata": {
    "collapsed": false
   },
   "outputs": [],
   "source": [
    "################################################################################\n",
    "###################Merge Home/Teamm Attribute to Match Reslt####################\n",
    "\n",
    "\n",
    "full = data_matchResult\n",
    "full = pd.merge(full, data_homeTeam, how = 'left', on = ['date', 'home_team_api_id'] )\n",
    "\n",
    "################################################################################\n",
    "#########Fill the missing season team data with average team data###############\n",
    "full = full.groupby(\"home_team_api_id\").transform(lambda x: x.fillna(x.mean()))\n",
    "\n",
    "full = pd.merge(full, data_awayTeam, how = 'left', on = ['date', 'away_team_api_id'] )\n",
    "full = full.groupby(\"away_team_api_id\").transform(lambda x: x.fillna(x.mean()))"
   ]
  },
  {
   "cell_type": "markdown",
   "metadata": {},
   "source": [
    "## Unifying feature"
   ]
  },
  {
   "cell_type": "code",
   "execution_count": 6,
   "metadata": {
    "collapsed": false
   },
   "outputs": [
    {
     "name": "stderr",
     "output_type": "stream",
     "text": [
      "/home/dawei/anaconda2/lib/python2.7/site-packages/ipykernel/__main__.py:3: FutureWarning: convert_objects is deprecated.  Use the data-type specific converters pd.to_datetime, pd.to_timedelta and pd.to_numeric.\n",
      "  app.launch_new_instance()\n"
     ]
    }
   ],
   "source": [
    "################################################################################\n",
    "#################Unifying Data,convert objective columns to numerical###########\n",
    "full = full.convert_objects(convert_numeric=True)\n",
    "\n",
    "################################################################################\n",
    "###########################Drop unnecessary columns#############################\n",
    "\n",
    "full = full.drop(labels = ['date'], axis=1)\n",
    "full = full.dropna()\n"
   ]
  },
  {
   "cell_type": "markdown",
   "metadata": {},
   "source": [
    "## Deleting leak feature\n"
   ]
  },
  {
   "cell_type": "code",
   "execution_count": 7,
   "metadata": {
    "collapsed": false
   },
   "outputs": [],
   "source": [
    "################################################################################\n",
    "###########################Adding match Result##################################\n",
    "sLength = len(full)\n",
    "full['match_result'] = pd.Series(np.random.randn(sLength), index=full.index)\n",
    "#full['match_result'] = full['match_result'].astype(object)\n",
    "\n",
    "for index, row in full.iterrows():\n",
    "    homeGoal = full.ix[index,'home_team_goal']\n",
    "    awayGoal = full.ix[index,'away_team_goal']\n",
    "    \n",
    "    if homeGoal > awayGoal:\n",
    "        full.set_value(index,'match_result',0)\n",
    "    elif homeGoal == awayGoal:\n",
    "        full.set_value(index,'match_result',1)\n",
    "    elif homeGoal < awayGoal:\n",
    "        full.set_value(index,'match_result',2)\n",
    "    \n"
   ]
  },
  {
   "cell_type": "code",
   "execution_count": 8,
   "metadata": {
    "collapsed": false
   },
   "outputs": [],
   "source": [
    "full = full.drop(labels = ['home_team_goal','away_team_goal'], axis=1)"
   ]
  },
  {
   "cell_type": "markdown",
   "metadata": {},
   "source": [
    "## Cleaning One-hot features"
   ]
  },
  {
   "cell_type": "code",
   "execution_count": 9,
   "metadata": {
    "collapsed": false
   },
   "outputs": [
    {
     "data": {
      "text/plain": [
       "Index([u'country_id', u'league_id', u'B365H', u'B365D', u'B365A', u'BWH',\n",
       "       u'BWD', u'BWA', u'IWH', u'IWD', u'IWA', u'LBH', u'LBD', u'LBA', u'WHH',\n",
       "       u'WHD', u'WHA', u'VCH', u'VCD', u'VCA', u'home_buildUpPlaySpeed',\n",
       "       u'home_buildUpPlayPassing', u'home_chanceCreationPassing',\n",
       "       u'home_chanceCreationCrossing', u'home_chanceCreationShooting',\n",
       "       u'home_defencePressure', u'home_defenceAggression',\n",
       "       u'home_defenceTeamWidth', u'away_buildUpPlaySpeed',\n",
       "       u'away_buildUpPlayPassing', u'away_chanceCreationPassing',\n",
       "       u'away_chanceCreationCrossing', u'away_chanceCreationShooting',\n",
       "       u'away_defencePressure', u'away_defenceAggression',\n",
       "       u'away_defenceTeamWidth', u'match_result'],\n",
       "      dtype='object')"
      ]
     },
     "execution_count": 9,
     "metadata": {},
     "output_type": "execute_result"
    }
   ],
   "source": [
    "full.columns"
   ]
  },
  {
   "cell_type": "code",
   "execution_count": 10,
   "metadata": {
    "collapsed": false
   },
   "outputs": [],
   "source": [
    "col=['country_id','league_id']\n",
    "for c in col:\n",
    "    full[c]=full[c].astype('category')\n",
    "dummy_df=pd.get_dummies(full[col])\n",
    "full=pd.concat([full,dummy_df],axis=1)\n",
    "dummy_df.head()\n",
    "full = full.drop(col, axis=1)"
   ]
  },
  {
   "cell_type": "markdown",
   "metadata": {},
   "source": [
    "## Correlation Between Bet Odd and Match Result"
   ]
  },
  {
   "cell_type": "code",
   "execution_count": 20,
   "metadata": {
    "collapsed": false
   },
   "outputs": [
    {
     "data": {
      "text/plain": [
       "<matplotlib.axes._subplots.AxesSubplot at 0x7fe9399640d0>"
      ]
     },
     "execution_count": 20,
     "metadata": {},
     "output_type": "execute_result"
    },
    {
     "data": {
      "image/png": "[encoded data removed]",
      "text/plain": [
       "<matplotlib.figure.Figure at 0x7fe937bb54d0>"
      ]
     },
     "metadata": {},
     "output_type": "display_data"
    }
   ],
   "source": [
    "full.corr()['match_result'][['B365H','B365D','B365A','BWH','BWA','BWD']].plot.bar()"
   ]
  },
  {
   "cell_type": "markdown",
   "metadata": {},
   "source": [
    "## Saving Data to CSV File"
   ]
  },
  {
   "cell_type": "code",
   "execution_count": null,
   "metadata": {
    "collapsed": true
   },
   "outputs": [],
   "source": [
    "full.to_csv('Processed/cleaned_data.csv', index=False,low_memory=False)"
   ]
  }
 ],
 "metadata": {
  "anaconda-cloud": {},
  "kernelspec": {
   "display_name": "Python [conda root]",
   "language": "python",
   "name": "conda-root-py"
  },
  "language_info": {
   "codemirror_mode": {
    "name": "ipython",
    "version": 2
   },
   "file_extension": ".py",
   "mimetype": "text/x-python",
   "name": "python",
   "nbconvert_exporter": "python",
   "pygments_lexer": "ipython2",
   "version": "2.7.12"
  }
 },
 "nbformat": 4,
 "nbformat_minor": 1
}
