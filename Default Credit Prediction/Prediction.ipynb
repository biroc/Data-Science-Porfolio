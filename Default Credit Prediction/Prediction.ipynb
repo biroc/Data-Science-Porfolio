{
 "cells": [
  {
   "cell_type": "markdown",
   "metadata": {},
   "source": [
    "Credit modelling using financial lending data from Lending Club\n",
    "------------------------------------------\n",
    "\n",
    "* Using False Positive Rate as error matric\n",
    "* Using weighted training penalty to solve the imblance binary classfication"
   ]
  },
  {
   "cell_type": "code",
   "execution_count": 1,
   "metadata": {
    "collapsed": false
   },
   "outputs": [
    {
     "name": "stderr",
     "output_type": "stream",
     "text": [
      "/home/dawei/anaconda2/lib/python2.7/site-packages/sklearn/cross_validation.py:44: DeprecationWarning: This module was deprecated in version 0.18 in favor of the model_selection module into which all the refactored classes and functions are moved. Also note that the interface of the new CV iterators are different from that of this module. This module will be removed in 0.20.\n",
      "  \"This module will be removed in 0.20.\", DeprecationWarning)\n"
     ]
    }
   ],
   "source": [
    "import pandas as pd\n",
    "import numpy as np\n",
    "from sklearn.linear_model import LogisticRegression\n",
    "from sklearn.cross_validation import cross_val_predict, KFold\n",
    "\n",
    "\n",
    "#######Filtering Function########\n",
    "def Filter(df, key, value):\n",
    "\treturn df[df[key] == value]\n",
    "pd.DataFrame.Filter = Filter"
   ]
  },
  {
   "cell_type": "code",
   "execution_count": 2,
   "metadata": {
    "collapsed": false
   },
   "outputs": [
    {
     "name": "stderr",
     "output_type": "stream",
     "text": [
      "Using TensorFlow backend.\n"
     ]
    }
   ],
   "source": [
    "import keras.callbacks as cb\n",
    "from keras.datasets import mnist\n",
    "from keras.layers.core import Activation, Dense, Dropout\n",
    "from keras.models import Sequential\n",
    "from keras.optimizers import SGD,Adam\n",
    "from keras.regularizers import l1, l2\n",
    "from keras.utils import np_utils\n",
    "\n",
    "%matplotlib inline\n",
    "from matplotlib import pyplot as plt\n",
    "import numpy as np\n",
    "import time\n",
    "import pandas as pd\n"
   ]
  },
  {
   "cell_type": "code",
   "execution_count": 3,
   "metadata": {
    "collapsed": true
   },
   "outputs": [],
   "source": [
    "## Define Features Columns and target Columns\n",
    "\n",
    "loans=pd.read_csv('Processed/Cleaned_loans_2007.csv',index_col=False,low_memory=False)\n",
    "cols = loans.columns\n",
    "train_cols = cols.drop(\"loan_status\")\n",
    "features = loans[train_cols]\n",
    "target = loans[\"loan_status\"]"
   ]
  },
  {
   "cell_type": "markdown",
   "metadata": {},
   "source": [
    "## Algorithm 1: Logistic Regression\n",
    "\n",
    "* Class weight with balanced penality to solve the imbalance target columbn\n",
    "* Class weight with self-defined penality to solve the imbalance target columbn\n"
   ]
  },
  {
   "cell_type": "markdown",
   "metadata": {},
   "source": [
    "### Class weight with balanced penality to solve the imbalance target columbn"
   ]
  },
  {
   "cell_type": "code",
   "execution_count": 4,
   "metadata": {
    "collapsed": false
   },
   "outputs": [
    {
     "name": "stdout",
     "output_type": "stream",
     "text": [
      "Test tpr is 66.52%, fpr is 38.93%, Accuracy is 65.73%\n"
     ]
    }
   ],
   "source": [
    "###########################################################\n",
    "#################Weight with balanced penality#############\n",
    "\n",
    "lr = LogisticRegression(class_weight=\"balanced\")\n",
    "kf = KFold(features.shape[0], random_state=1)\n",
    "predictions = cross_val_predict(lr, features, target, cv=kf)\n",
    "predictions = pd.Series(predictions)\n",
    "\n",
    "# False positives.\n",
    "fp_filter = (predictions == 1) & (loans[\"loan_status\"] == 0)\n",
    "fp = len(predictions[fp_filter])\n",
    "\n",
    "# True positives.\n",
    "tp_filter = (predictions == 1) & (loans[\"loan_status\"] == 1)\n",
    "tp = len(predictions[tp_filter])\n",
    "\n",
    "# False negatives.\n",
    "fn_filter = (predictions == 0) & (loans[\"loan_status\"] == 1)\n",
    "fn = len(predictions[fn_filter])\n",
    "\n",
    "# True negatives\n",
    "tn_filter = (predictions == 0) & (loans[\"loan_status\"] == 0)\n",
    "tn = len(predictions[tn_filter])\n",
    "\n",
    "# Rates\n",
    "tpr = tp / float(tp + fn)\n",
    "fpr = fp / float(fp + tn)\n",
    "accuracy = (tp+tn)/float(tp+fp+tn+fn)\n",
    "\n",
    "print(\"Test tpr is {:.2f}%, fpr is {:.2f}%, Accuracy is {:.2f}%\".format(tpr*100, fpr*100,accuracy*100))\n"
   ]
  },
  {
   "cell_type": "markdown",
   "metadata": {},
   "source": [
    "### Class weight with self-defined penality to solve the imbalance target columbn"
   ]
  },
  {
   "cell_type": "code",
   "execution_count": 5,
   "metadata": {
    "collapsed": false
   },
   "outputs": [
    {
     "name": "stdout",
     "output_type": "stream",
     "text": [
      "Test tpr is 23.13%, fpr is 8.41%, Accuracy is 33.02%\n"
     ]
    }
   ],
   "source": [
    "###########################################################\n",
    "#################Weight with manual penality###############\n",
    "\n",
    "\n",
    "penalty = {\n",
    "    0: 10,\n",
    "    1: 1\n",
    "}\n",
    "\n",
    "lr = LogisticRegression(class_weight=penalty)\n",
    "kf = KFold(features.shape[0], random_state=1)\n",
    "predictions = cross_val_predict(lr, features, target, cv=kf)\n",
    "predictions = pd.Series(predictions)\n",
    "\n",
    "# False positives.\n",
    "fp_filter = (predictions == 1) & (loans[\"loan_status\"] == 0)\n",
    "fp = len(predictions[fp_filter])\n",
    "\n",
    "# True positives.\n",
    "tp_filter = (predictions == 1) & (loans[\"loan_status\"] == 1)\n",
    "tp = len(predictions[tp_filter])\n",
    "\n",
    "# False negatives.\n",
    "fn_filter = (predictions == 0) & (loans[\"loan_status\"] == 1)\n",
    "fn = len(predictions[fn_filter])\n",
    "\n",
    "# True negatives\n",
    "tn_filter = (predictions == 0) & (loans[\"loan_status\"] == 0)\n",
    "tn = len(predictions[tn_filter])\n",
    "\n",
    "# Rates\n",
    "tpr = tp / float(tp + fn)\n",
    "fpr = fp / float(fp + tn)\n",
    "accuracy = (tp+tn)/float(tp+fp+tn+fn)\n",
    "\n",
    "print(\"Test tpr is {:.2f}%, fpr is {:.2f}%, Accuracy is {:.2f}%\".format(tpr*100, fpr*100,accuracy*100))"
   ]
  },
  {
   "cell_type": "markdown",
   "metadata": {},
   "source": [
    "## Algorithm 2: Random Forest\n",
    "\n",
    "* Class weight with balanced penality to solve the imbalance target columbn\n"
   ]
  },
  {
   "cell_type": "code",
   "execution_count": 6,
   "metadata": {
    "collapsed": false
   },
   "outputs": [
    {
     "name": "stdout",
     "output_type": "stream",
     "text": [
      "Test tpr is 99.53%, fpr is 98.24%, Accuracy is 85.40%\n"
     ]
    }
   ],
   "source": [
    "from sklearn.ensemble import RandomForestClassifier\n",
    "from sklearn.cross_validation import cross_val_predict\n",
    "rf = RandomForestClassifier(n_estimators = 30,class_weight=\"balanced\", random_state=1)\n",
    "kf = KFold(features.shape[0], random_state=1)\n",
    "predictions = cross_val_predict(rf, features, target, cv=kf)\n",
    "predictions = pd.Series(predictions)\n",
    "\n",
    "# False positives.\n",
    "fp_filter = (predictions == 1) & (loans[\"loan_status\"] == 0)\n",
    "fp = len(predictions[fp_filter])\n",
    "\n",
    "# True positives.\n",
    "tp_filter = (predictions == 1) & (loans[\"loan_status\"] == 1)\n",
    "tp = len(predictions[tp_filter])\n",
    "\n",
    "# False negatives.\n",
    "fn_filter = (predictions == 0) & (loans[\"loan_status\"] == 1)\n",
    "fn = len(predictions[fn_filter])\n",
    "\n",
    "# True negatives\n",
    "tn_filter = (predictions == 0) & (loans[\"loan_status\"] == 0)\n",
    "tn = len(predictions[tn_filter])\n",
    "\n",
    "\n",
    "# Rates\n",
    "tpr = tp / float(tp + fn)\n",
    "fpr = fp / float(fp + tn)\n",
    "accuracy = (tp+tn)/float(tp+fp+tn+fn)\n",
    "\n",
    "print(\"Test tpr is {:.2f}%, fpr is {:.2f}%, Accuracy is {:.2f}%\".format(tpr*100, fpr*100,accuracy*100))"
   ]
  },
  {
   "cell_type": "markdown",
   "metadata": {},
   "source": [
    "## Algorithm 3: Deep FNN\n"
   ]
  },
  {
   "cell_type": "markdown",
   "metadata": {},
   "source": [
    "### Pre-processing\n",
    "\n",
    "* proceed w/ standardizing datasets by z-scoring (de-mean, uni-variance).\n",
    "\n",
    "* Training Data Ratio = 0.9"
   ]
  },
  {
   "cell_type": "code",
   "execution_count": 7,
   "metadata": {
    "collapsed": true
   },
   "outputs": [],
   "source": [
    "def PreprocessDataset():\n",
    "    from sklearn import preprocessing\n",
    "    data = pd.read_csv('Processed/Cleaned_loans_2007.csv',index_col=False,low_memory=False)\n",
    "    data = data.reindex(np.random.permutation(data.index))\n",
    "    cols = data.columns\n",
    "    x_columns = cols.drop(\"loan_status\")\n",
    "    \n",
    "    x = data[x_columns]\n",
    "    y = data[\"loan_status\"]\n",
    "    \n",
    "    train_max_row = int(data.shape[0]*0.9)\n",
    "    \n",
    "    x_train = x.iloc[:train_max_row]\n",
    "    x_test = x.iloc[train_max_row:]\n",
    "    \n",
    "    y_train = y.iloc[:train_max_row]\n",
    "    y_test = y.iloc[train_max_row:]\n",
    "    \n",
    "    y_train = np_utils.to_categorical(y_train)\n",
    "    y_test = np_utils.to_categorical(y_test)\n",
    "    \n",
    "    ################Pre-processing###########\n",
    "    x_train = preprocessing.scale(x_train)\n",
    "    x_test = preprocessing.scale(x_test)\n",
    "    \n",
    "    return x_train, x_test, y_train, y_test\n",
    "\n",
    "x_train, x_test, y_train, y_test = PreprocessDataset()"
   ]
  },
  {
   "cell_type": "markdown",
   "metadata": {},
   "source": [
    "## Recipes for Neural Nets\n",
    "\n",
    "* Number of Layer: 5\n",
    "\n",
    "* Activation Fuction: ReLU\n",
    "\n",
    "* Droupout Rate: 0.5 \n",
    "\n",
    "* Learning Rate: 0.005\n",
    "\n",
    "* Weight Regularizer: None\n",
    "\n",
    "* Optimization Methon: Adam\n",
    "\n",
    "* Number of Batch: 512\n",
    "\n",
    "* Number of epoch: 20\n",
    "\n"
   ]
  },
  {
   "cell_type": "code",
   "execution_count": 8,
   "metadata": {
    "collapsed": true
   },
   "outputs": [],
   "source": [
    "def DefineModel():\n",
    "\n",
    "\n",
    "    activation_func = 'relu' \n",
    "    loss_function = 'categorical_crossentropy'\n",
    "    #loss_function = 'mean_squared_error'\n",
    "      \n",
    "    dropout_rate = 0.1\n",
    "    weight_regularizer = None\n",
    "\n",
    "    learning_rate = 0.005\n",
    "    \n",
    "    ## Initialize model.\n",
    "    model = Sequential()\n",
    "\n",
    "    ## 1st Layer\n",
    "    ## Dense' means fully-connected.\n",
    "    model.add(Dense(64, input_dim=37, W_regularizer=weight_regularizer))\n",
    "    model.add(Activation(activation_func))\n",
    "    model.add(Dropout(0.5))\n",
    "    \n",
    "    ## 2nd Layer\n",
    "    model.add(Dense(32, W_regularizer=weight_regularizer))\n",
    "    model.add(Activation(activation_func))\n",
    "    model.add(Dropout(0.5))\n",
    "    \n",
    "     ## 2nd Layer\n",
    "    model.add(Dense(28, W_regularizer=weight_regularizer))\n",
    "    model.add(Activation(activation_func))\n",
    "    model.add(Dropout(0.5))\n",
    "    \n",
    "     ## 2nd Layer\n",
    "    model.add(Dense(24, W_regularizer=weight_regularizer))\n",
    "    model.add(Activation(activation_func))\n",
    "    model.add(Dropout(0.5))\n",
    "    \n",
    "     ## 2nd Layer\n",
    "    model.add(Dense(20, W_regularizer=weight_regularizer))\n",
    "    model.add(Activation(activation_func))\n",
    "    model.add(Dropout(0.5))\n",
    "    \n",
    "     ## 2nd Layer\n",
    "    model.add(Dense(16, W_regularizer=weight_regularizer))\n",
    "    model.add(Activation(activation_func))\n",
    "    model.add(Dropout(dropout_rate))\n",
    "    \n",
    "     ## 2nd Layer\n",
    "    model.add(Dense(12, W_regularizer=weight_regularizer))\n",
    "    model.add(Activation(activation_func))\n",
    "    model.add(Dropout(dropout_rate))\n",
    "    \n",
    "     ## 2nd Layer\n",
    "    model.add(Dense(8, W_regularizer=weight_regularizer))\n",
    "    model.add(Activation(activation_func))\n",
    "    model.add(Dropout(0.7))\n",
    "    \n",
    "    ## 3rd Layer\n",
    "    model.add(Dense(4))\n",
    "    model.add(Activation(activation_func))   \n",
    "    model.add(Dropout(0.25))\n",
    "    \n",
    "    ## 4th Layer\n",
    "    model.add(Dense(4))\n",
    "    model.add(Activation(activation_func))   \n",
    "    model.add(Dropout(0.25))\n",
    "    \n",
    "    ## 5th Layer\n",
    "    model.add(Dense(4))\n",
    "    model.add(Activation(activation_func))   \n",
    "    model.add(Dropout(0.25))\n",
    "\n",
    "    \n",
    "    ## Adding Softmax Layer\n",
    "    ## Last layer has the same dimension as the number of classes\n",
    "    model.add(Dense(2))\n",
    "    \n",
    "    ## For classification, the activation is softmax\n",
    "    model.add(Activation('softmax'))\n",
    "    \n",
    "    ## Define optimizer. we select Adam\n",
    "    opt = Adam(lr=learning_rate, beta_1=0.9, beta_2=0.999, epsilon=1e-08, decay=0.0)\n",
    "    #opt = SGD(lr=learning_rate, clipnorm=5.)\n",
    "    \n",
    "    ## Define loss function = 'categorical_crossentropy' or 'mean_squared_error'\n",
    "    model.compile(loss=loss_function, optimizer=opt, metrics=[\"fpr\",\"accuracy\"])\n",
    "\n",
    "    return model"
   ]
  },
  {
   "cell_type": "code",
   "execution_count": 9,
   "metadata": {
    "collapsed": true
   },
   "outputs": [],
   "source": [
    "def TrainModel(data=None, epochs=20):\n",
    "\n",
    "    batch=128\n",
    "    start_time = time.time()\n",
    "    model = DefineModel()\n",
    "    if data is None:\n",
    "        print(\"Must provide data.\")\n",
    "        return\n",
    "    x_train, x_test, y_train, y_test = data\n",
    "    print('Start training.')\n",
    "\n",
    "    history = model.fit(x_train[:32000], y_train[:32000], nb_epoch=epochs, batch_size=batch,class_weight={0:3,1:1},\n",
    "              validation_data=(x_train[32000:], y_train[32000:]))\n",
    "    print(\"Training took {0} seconds.\".format(time.time() - start_time))\n",
    "    return model, history"
   ]
  },
  {
   "cell_type": "markdown",
   "metadata": {},
   "source": [
    "### Start Training"
   ]
  },
  {
   "cell_type": "code",
   "execution_count": 10,
   "metadata": {
    "collapsed": false
   },
   "outputs": [
    {
     "name": "stdout",
     "output_type": "stream",
     "text": [
      "Start training.\n",
      "Train on 32000 samples, validate on 3002 samples\n",
      "Epoch 1/20\n",
      "32000/32000 [==============================] - 1s - loss: 1.0864 - fpr: 0.1502 - acc: 0.8482 - val_loss: 0.6293 - val_fpr: 0.1456 - val_acc: 0.8544\n",
      "Epoch 2/20\n",
      "32000/32000 [==============================] - 1s - loss: 1.0859 - fpr: 0.1452 - acc: 0.8548 - val_loss: 0.6333 - val_fpr: 0.1456 - val_acc: 0.8544\n",
      "Epoch 3/20\n",
      "32000/32000 [==============================] - 1s - loss: 1.0852 - fpr: 0.1451 - acc: 0.8549 - val_loss: 0.6441 - val_fpr: 0.1456 - val_acc: 0.8544\n",
      "Epoch 4/20\n",
      "32000/32000 [==============================] - 1s - loss: 1.0854 - fpr: 0.1436 - acc: 0.8564 - val_loss: 0.6224 - val_fpr: 0.1456 - val_acc: 0.8544\n",
      "Epoch 5/20\n",
      "32000/32000 [==============================] - 1s - loss: 1.0853 - fpr: 0.1436 - acc: 0.8564 - val_loss: 0.6354 - val_fpr: 0.1456 - val_acc: 0.8544\n",
      "Epoch 6/20\n",
      "32000/32000 [==============================] - 1s - loss: 1.0853 - fpr: 0.1436 - acc: 0.8564 - val_loss: 0.6229 - val_fpr: 0.1456 - val_acc: 0.8544\n",
      "Epoch 7/20\n",
      "32000/32000 [==============================] - 1s - loss: 1.0855 - fpr: 0.1443 - acc: 0.8557 - val_loss: 0.6231 - val_fpr: 0.1456 - val_acc: 0.8544\n",
      "Epoch 8/20\n",
      "32000/32000 [==============================] - 1s - loss: 1.0852 - fpr: 0.1440 - acc: 0.8560 - val_loss: 0.6392 - val_fpr: 0.1456 - val_acc: 0.8544\n",
      "Epoch 9/20\n",
      "32000/32000 [==============================] - 1s - loss: 1.0853 - fpr: 0.1441 - acc: 0.8559 - val_loss: 0.6387 - val_fpr: 0.1456 - val_acc: 0.8544\n",
      "Epoch 10/20\n",
      "32000/32000 [==============================] - 1s - loss: 1.0869 - fpr: 0.1437 - acc: 0.8562 - val_loss: 0.6560 - val_fpr: 0.1456 - val_acc: 0.8544\n",
      "Epoch 11/20\n",
      "32000/32000 [==============================] - 1s - loss: 1.0854 - fpr: 0.1436 - acc: 0.8564 - val_loss: 0.6347 - val_fpr: 0.1456 - val_acc: 0.8544\n",
      "Epoch 12/20\n",
      "32000/32000 [==============================] - 1s - loss: 1.0854 - fpr: 0.1436 - acc: 0.8564 - val_loss: 0.6399 - val_fpr: 0.1456 - val_acc: 0.8544\n",
      "Epoch 13/20\n",
      "32000/32000 [==============================] - 1s - loss: 1.0854 - fpr: 0.1441 - acc: 0.8559 - val_loss: 0.6307 - val_fpr: 0.1456 - val_acc: 0.8544\n",
      "Epoch 14/20\n",
      "32000/32000 [==============================] - 1s - loss: 1.0854 - fpr: 0.1436 - acc: 0.8564 - val_loss: 0.6211 - val_fpr: 0.1456 - val_acc: 0.8544\n",
      "Epoch 15/20\n",
      "32000/32000 [==============================] - 1s - loss: 1.0853 - fpr: 0.1436 - acc: 0.8564 - val_loss: 0.6490 - val_fpr: 0.1456 - val_acc: 0.8544\n",
      "Epoch 16/20\n",
      "32000/32000 [==============================] - 1s - loss: 1.0853 - fpr: 0.1436 - acc: 0.8564 - val_loss: 0.6365 - val_fpr: 0.1456 - val_acc: 0.8544\n",
      "Epoch 17/20\n",
      "32000/32000 [==============================] - 1s - loss: 1.0872 - fpr: 0.1436 - acc: 0.8564 - val_loss: 0.6283 - val_fpr: 0.1456 - val_acc: 0.8544\n",
      "Epoch 18/20\n",
      "32000/32000 [==============================] - 1s - loss: 1.0857 - fpr: 0.1436 - acc: 0.8564 - val_loss: 0.6264 - val_fpr: 0.1456 - val_acc: 0.8544\n",
      "Epoch 19/20\n",
      "32000/32000 [==============================] - 1s - loss: 1.0855 - fpr: 0.1436 - acc: 0.8564 - val_loss: 0.6262 - val_fpr: 0.1456 - val_acc: 0.8544\n",
      "Epoch 20/20\n",
      "32000/32000 [==============================] - 1s - loss: 1.0854 - fpr: 0.1436 - acc: 0.8564 - val_loss: 0.6390 - val_fpr: 0.1456 - val_acc: 0.8544\n",
      "Training took 24.7019290924 seconds.\n"
     ]
    }
   ],
   "source": [
    "trained_model, training_history = TrainModel(data=[x_train, x_test, y_train, y_test],epochs = 20)"
   ]
  },
  {
   "cell_type": "code",
   "execution_count": 11,
   "metadata": {
    "collapsed": true
   },
   "outputs": [],
   "source": [
    "def PlotHistory(train_value, test_value, value_is_loss_or_acc):\n",
    "    f, ax = plt.subplots()\n",
    "    ax.plot([None] + train_value, 'o-')\n",
    "    ax.plot([None] + test_value, 'x-')\n",
    "    ## Plot legend and use the best location automatically: loc = 0.\n",
    "    ax.legend(['Train ' + value_is_loss_or_acc, 'Validation ' + value_is_loss_or_acc], loc = 0) \n",
    "    ax.set_title('Training/Validation ' + value_is_loss_or_acc + ' per Epoch')\n",
    "    ax.set_xlabel('Epoch')\n",
    "    ax.set_ylabel(value_is_loss_or_acc)  \n",
    "    \n"
   ]
  },
  {
   "cell_type": "markdown",
   "metadata": {},
   "source": [
    "### Observe Training Process"
   ]
  },
  {
   "cell_type": "code",
   "execution_count": 12,
   "metadata": {
    "collapsed": false
   },
   "outputs": [
    {
     "data": {
      "image/png": "[encoded data removed]",
      "text/plain": [
       "<matplotlib.figure.Figure at 0x7f8f2e6e1f10>"
      ]
     },
     "metadata": {},
     "output_type": "display_data"
    },
    {
     "data": {
      "image/png": "[encoded data removed]",
      "text/plain": [
       "<matplotlib.figure.Figure at 0x7f8f2e6e1d90>"
      ]
     },
     "metadata": {},
     "output_type": "display_data"
    }
   ],
   "source": [
    "    \n",
    "PlotHistory(training_history.history['loss'], training_history.history['val_loss'], 'Loss')\n",
    "PlotHistory(training_history.history['acc'], training_history.history['val_acc'], 'Accuracy')"
   ]
  },
  {
   "cell_type": "markdown",
   "metadata": {},
   "source": [
    "### Observe Weight Distribution"
   ]
  },
  {
   "cell_type": "code",
   "execution_count": 13,
   "metadata": {
    "collapsed": true
   },
   "outputs": [],
   "source": [
    "def drawWeightHistogram(x):\n",
    "    ## the histogram of the data\n",
    "    fig = plt.subplots()\n",
    "    n, bins, patches = plt.hist(x, 50)\n",
    "    plt.xlim(-0.5, 0.5)\n",
    "    plt.xlabel('Weight')\n",
    "    plt.ylabel('Count')\n",
    "    zero_counts = (x == 0.0).sum()\n",
    "    plt.title(\"Weight Histogram. Num of '0's: %d\" % zero_counts)"
   ]
  },
  {
   "cell_type": "code",
   "execution_count": 14,
   "metadata": {
    "collapsed": false
   },
   "outputs": [
    {
     "data": {
      "image/png": "[encoded data removed]",
      "text/plain": [
       "<matplotlib.figure.Figure at 0x7f8f2c5fcb10>"
      ]
     },
     "metadata": {},
     "output_type": "display_data"
    }
   ],
   "source": [
    "w1 = trained_model.layers[0].get_weights()[0].flatten()\n",
    "drawWeightHistogram(w1)"
   ]
  },
  {
   "cell_type": "markdown",
   "metadata": {},
   "source": [
    "### Define Testing Procedure\n"
   ]
  },
  {
   "cell_type": "code",
   "execution_count": 15,
   "metadata": {
    "collapsed": true
   },
   "outputs": [],
   "source": [
    "def TestModel(model=None, data=None):\n",
    "    if model is None:\n",
    "        print(\"Must provide a trained model.\")\n",
    "        return\n",
    "    if data is None:\n",
    "        print(\"Must provide data.\")\n",
    "        \n",
    "        return\n",
    "    x_test, y_test = data\n",
    "    scores = model.evaluate(x_test, y_test)\n",
    "    return scores"
   ]
  },
  {
   "cell_type": "code",
   "execution_count": 16,
   "metadata": {
    "collapsed": false
   },
   "outputs": [
    {
     "name": "stdout",
     "output_type": "stream",
     "text": [
      "3680/3890 [===========================>..] - ETA: 0sTest loss 0.6400, fpr 15.17%,Accuracy 84.83%\n"
     ]
    }
   ],
   "source": [
    "test_score = TestModel(model=trained_model, data=[x_test, y_test])\n",
    "print(\"Test loss {:.4f}, fpr {:.2f}%,Accuracy {:.2f}%\".format(test_score[0], test_score[1] * 100,test_score[2]*100))\n"
   ]
  }
 ],
 "metadata": {
  "anaconda-cloud": {},
  "kernelspec": {
   "display_name": "Python [conda root]",
   "language": "python",
   "name": "conda-root-py"
  },
  "language_info": {
   "codemirror_mode": {
    "name": "ipython",
    "version": 2
   },
   "file_extension": ".py",
   "mimetype": "text/x-python",
   "name": "python",
   "nbconvert_exporter": "python",
   "pygments_lexer": "ipython2",
   "version": "2.7.12"
  }
 },
 "nbformat": 4,
 "nbformat_minor": 1
}
