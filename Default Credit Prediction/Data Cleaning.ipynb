{
 "cells": [
  {
   "cell_type": "markdown",
   "metadata": {},
   "source": [
    "\n",
    "\n",
    "Credit modelling using linancial lending data from Lending Club\n",
    "------------------------------------------\n",
    "\n",
    "Modeling Credit status by making predictions about whether or not a loan will be paid off on time, which is contained in the *loan_status* column of the clean dataset.\n",
    "\n",
    "40000 approved loan data with loan status feature from 2017 to 2011 are analyzed in the project. The datasets using in the project is in the Data folder.\n",
    "\n",
    "Using False Positive Rate(fpr) and Accuracy as error metric. With a false positive, we predict that a loan will be paid off on time, but it actually isn't. This costs us money. Our objective in this is to make money -- we want to fund enough loans that are paid off on time to offset our losses from loans that aren't paid.\n",
    "\n",
    "Prediction Goal: Minimize the fpr results.\n"
   ]
  },
  {
   "cell_type": "markdown",
   "metadata": {},
   "source": [
    "## Reading Raw Data\n",
    "\n",
    "* removing the first line:\n",
    "    * because it contains the extraneous text Notes offered by Prospectus \n",
    "    (https://www.lendingclub.com/info/prospectus.action) instead of the column titles, which prevents the dataset from being parsed by the pandas library properly\n",
    "* removing the desc column:\n",
    "    * which contains a long text explanation for each loan\n",
    "* removing the url column:\n",
    "    * which contains a link to each loan on Lending Club which can only be accessed with an investor account\n",
    "* removing all columns containing more than 50% missing values:\n",
    "    * which allows us to move faster since we can spend less time trying to fill these values"
   ]
  },
  {
   "cell_type": "code",
   "execution_count": 1,
   "metadata": {
    "collapsed": false
   },
   "outputs": [
    {
     "name": "stderr",
     "output_type": "stream",
     "text": [
      "/home/dawei/anaconda2/lib/python2.7/site-packages/IPython/core/interactiveshell.py:2717: DtypeWarning: Columns (0,47) have mixed types. Specify dtype option on import or set low_memory=False.\n",
      "  interactivity=interactivity, compiler=compiler, result=result)\n"
     ]
    }
   ],
   "source": [
    "import pandas as pd\n",
    "import numpy as np\n",
    "\n",
    "\n",
    "#######Filtering Function########\n",
    "def Filter(df, key, value):\n",
    "\treturn df[df[key] == value]\n",
    "pd.DataFrame.Filter = Filter\n",
    "\n",
    "\n",
    "loans_2007 = pd.read_csv('Data/rawData.csv', skiprows=1)\n",
    "half_count = len(loans_2007) / 2\n",
    "loans_2007 = loans_2007.dropna(thresh=half_count, axis=1)\n",
    "loans_2007 = loans_2007.drop(['desc', 'url'],axis=1)\n",
    "loans_2007.to_csv('Data/loans_2007.csv', index=False)\n"
   ]
  },
  {
   "cell_type": "markdown",
   "metadata": {},
   "source": [
    "## Cleaning Data\n",
    "\n",
    "Breaking up the columns into 3 groups of 18 columns and use the data dictionary to become familiar with what each column represents. After understanding each feature, we want to pay attention to any features that:\n",
    "\n",
    "* leak information from the future (after the loan has already been funded)\n",
    "* don't affect a borrower's ability to pay back a loan (e.g. a randomly generated ID value by Lending Club)\n",
    "* formatted poorly and need to be cleaned up\n",
    "* require more data or a lot of processing to turn into a useful feature\n",
    "* contain redundant information"
   ]
  },
  {
   "cell_type": "markdown",
   "metadata": {},
   "source": [
    "### Cleaning redundent features and features leak future information"
   ]
  },
  {
   "cell_type": "code",
   "execution_count": 2,
   "metadata": {
    "collapsed": false
   },
   "outputs": [
    {
     "name": "stderr",
     "output_type": "stream",
     "text": [
      "/home/dawei/anaconda2/lib/python2.7/site-packages/IPython/core/interactiveshell.py:2717: DtypeWarning: Columns (0) have mixed types. Specify dtype option on import or set low_memory=False.\n",
      "  interactivity=interactivity, compiler=compiler, result=result)\n"
     ]
    }
   ],
   "source": [
    "loan_2007 = pd.read_csv('Data/loans_2007.csv')\n",
    "\n",
    "## Remove redundent and leak feature in first group\n",
    "loans_2007 = loans_2007.drop([\"pymnt_plan\",\"id\", \"member_id\", \"funded_amnt\", \"funded_amnt_inv\", \"grade\", \"sub_grade\", \"emp_title\", \"issue_d\"], axis=1)\n",
    "\n",
    "## Remove redundent and leak featured in second group\n",
    "loans_2007 = loans_2007.drop([\"zip_code\", \"out_prncp\", \"out_prncp_inv\", \"total_pymnt\", \"total_pymnt_inv\", \"total_rec_prncp\"], axis=1)\n",
    "\n",
    "## Remove redundent and leak featured in third group\n",
    "loans_2007 = loans_2007.drop([\"total_rec_int\", \"total_rec_late_fee\", \"recoveries\", \"collection_recovery_fee\", \"last_pymnt_d\", \"last_pymnt_amnt\"], axis=1)\n"
   ]
  },
  {
   "cell_type": "markdown",
   "metadata": {},
   "source": [
    "### Cleaning target Column\n",
    "\n",
    "* Discovering the imbalance of Loan_status column\n",
    "* Converting the loan status string to binary classfication features"
   ]
  },
  {
   "cell_type": "code",
   "execution_count": 4,
   "metadata": {
    "collapsed": false
   },
   "outputs": [
    {
     "data": {
      "text/plain": [
       "Fully Paid                                             33314\n",
       "Charged Off                                             5640\n",
       "Does not meet the credit policy. Status:Fully Paid      1988\n",
       "Current                                                  781\n",
       "Does not meet the credit policy. Status:Charged Off      761\n",
       "In Grace Period                                           22\n",
       "Late (31-120 days)                                        17\n",
       "Late (16-30 days)                                          8\n",
       "Default                                                    4\n",
       "Name: loan_status, dtype: int64"
      ]
     },
     "execution_count": 4,
     "metadata": {},
     "output_type": "execute_result"
    }
   ],
   "source": [
    "loans_2007.loan_status.value_counts()\n"
   ]
  },
  {
   "cell_type": "code",
   "execution_count": 5,
   "metadata": {
    "collapsed": true
   },
   "outputs": [],
   "source": [
    "## Convert the Loan Status string to numeric value\n",
    "\n",
    "loans_2007=loans_2007[(loans_2007.loan_status == 'Fully Paid') | (loans_2007.loan_status=='Charged Off')]\n",
    "\n",
    "status_replace = {\n",
    "    \"loan_status\" : {\n",
    "        \"Fully Paid\": 1,\n",
    "        \"Charged Off\": 0,\n",
    "    }\n",
    "}\n",
    "\n",
    "loans_2007 = loans_2007.replace(status_replace)"
   ]
  },
  {
   "cell_type": "markdown",
   "metadata": {},
   "source": [
    "### Remove Single Value Columns"
   ]
  },
  {
   "cell_type": "code",
   "execution_count": 6,
   "metadata": {
    "collapsed": false
   },
   "outputs": [
    {
     "name": "stdout",
     "output_type": "stream",
     "text": [
      "['initial_list_status', 'collections_12_mths_ex_med', 'policy_code', 'application_type', 'acc_now_delinq', 'chargeoff_within_12_mths', 'delinq_amnt', 'tax_liens']\n"
     ]
    }
   ],
   "source": [
    "## Remove Single Value Columns\n",
    "\n",
    "orig_columns = loans_2007.columns\n",
    "drop_columns = []\n",
    "for col in orig_columns:\n",
    "    col_series = loans_2007[col].dropna().unique()\n",
    "    if len(col_series) == 1:\n",
    "        drop_columns.append(col)\n",
    "loans_2007 = loans_2007.drop(drop_columns, axis=1)\n",
    "print(drop_columns)\n"
   ]
  },
  {
   "cell_type": "markdown",
   "metadata": {},
   "source": [
    "### Handing Missing Value"
   ]
  },
  {
   "cell_type": "code",
   "execution_count": 7,
   "metadata": {
    "collapsed": false
   },
   "outputs": [
    {
     "name": "stdout",
     "output_type": "stream",
     "text": [
      "loan_amnt                 0\n",
      "term                      0\n",
      "int_rate                  0\n",
      "installment               0\n",
      "emp_length                0\n",
      "home_ownership            0\n",
      "annual_inc                0\n",
      "verification_status       0\n",
      "loan_status               0\n",
      "purpose                   0\n",
      "title                    10\n",
      "addr_state                0\n",
      "dti                       0\n",
      "delinq_2yrs               0\n",
      "earliest_cr_line          0\n",
      "inq_last_6mths            0\n",
      "open_acc                  0\n",
      "pub_rec                   0\n",
      "revol_bal                 0\n",
      "revol_util               50\n",
      "total_acc                 0\n",
      "last_credit_pull_d        2\n",
      "pub_rec_bankruptcies    697\n",
      "dtype: int64\n"
     ]
    }
   ],
   "source": [
    "null_counts = loans_2007.isnull().sum()\n",
    "print(null_counts)\n",
    "\n",
    "## Drop pub_rec_bankruptcies Column since it has 697 Null value\n",
    "loans_2007 = loans_2007.drop(\"pub_rec_bankruptcies\", axis=1)\n",
    "loans_2007 = loans_2007.dropna(axis=0)"
   ]
  },
  {
   "cell_type": "markdown",
   "metadata": {},
   "source": [
    "### Converting the Object Columns to Numerical \n",
    "\n",
    "* Drop % Sign\n",
    "* Convert categorical features to Numeric features\n",
    "* Convert One-hot features"
   ]
  },
  {
   "cell_type": "code",
   "execution_count": 8,
   "metadata": {
    "collapsed": true
   },
   "outputs": [],
   "source": [
    "## Printing Object Columns\n",
    "\n",
    "object_columns_df=loans_2007.select_dtypes(include=['object'])\n",
    "loans_2007 = loans_2007.drop([\"last_credit_pull_d\", \"earliest_cr_line\", \"addr_state\", \"title\"], axis=1)\n"
   ]
  },
  {
   "cell_type": "code",
   "execution_count": 9,
   "metadata": {
    "collapsed": true
   },
   "outputs": [],
   "source": [
    "## Delete % Sign\n",
    "loans_2007[\"int_rate\"] = loans_2007[\"int_rate\"].str.rstrip(\"%\").astype(\"float\")\n",
    "loans_2007[\"revol_util\"] = loans_2007[\"revol_util\"].str.rstrip(\"%\").astype(\"float\")\n",
    "\n",
    "\n",
    "## Convert categorical features to Numeric features\n",
    "mapping_dict = {\n",
    "    \"emp_length\": {\n",
    "        \"10+ years\": 10,\n",
    "        \"9 years\": 9,\n",
    "        \"8 years\": 8,\n",
    "        \"7 years\": 7,\n",
    "        \"6 years\": 6,\n",
    "        \"5 years\": 5,\n",
    "        \"4 years\": 4,\n",
    "        \"3 years\": 3,\n",
    "        \"2 years\": 2,\n",
    "        \"1 year\": 1,\n",
    "        \"< 1 year\": 0,\n",
    "        \"n/a\": 0\n",
    "    }\n",
    "}\n",
    "\n",
    "\n",
    "loans_2007 = loans_2007.replace(mapping_dict)"
   ]
  },
  {
   "cell_type": "code",
   "execution_count": 10,
   "metadata": {
    "collapsed": true
   },
   "outputs": [],
   "source": [
    "## Convert One-hot Features\n",
    "\n",
    "col=['home_ownership','verification_status','purpose','term']\n",
    "for c in col:\n",
    "    loans_2007[c]=loans_2007[c].astype('category')\n",
    "dummy_df=pd.get_dummies(loans_2007[col])\n",
    "loans_2007=pd.concat([loans_2007,dummy_df],axis=1)\n",
    "dummy_df.head()\n",
    "loans_2007 = loans_2007.drop(col, axis=1)"
   ]
  },
  {
   "cell_type": "markdown",
   "metadata": {},
   "source": [
    "## Exporting the processed Data"
   ]
  },
  {
   "cell_type": "code",
   "execution_count": 12,
   "metadata": {
    "collapsed": false
   },
   "outputs": [],
   "source": [
    "loans_2007.to_csv('Processed/Cleaned_loans_2007.csv', index=False)"
   ]
  },
  {
   "cell_type": "markdown",
   "metadata": {},
   "source": [
    "## Next thing to do:\n",
    "\n",
    "We can tweak the penalties further.\n",
    "\n",
    "We can try models other than a random forest and logistic regression.\n",
    "\n",
    "We can use some of the columns we discarded to generate better features.\n",
    "\n",
    "We can ensemble multiple models to get more accurate predictions.\n",
    "\n",
    "We can tune the parameters of the algorithm to achieve higher performance."
   ]
  },
  {
   "cell_type": "code",
   "execution_count": null,
   "metadata": {
    "collapsed": true
   },
   "outputs": [],
   "source": []
  }
 ],
 "metadata": {
  "kernelspec": {
   "display_name": "Python [conda root]",
   "language": "python",
   "name": "conda-root-py"
  },
  "language_info": {
   "codemirror_mode": {
    "name": "ipython",
    "version": 2
   },
   "file_extension": ".py",
   "mimetype": "text/x-python",
   "name": "python",
   "nbconvert_exporter": "python",
   "pygments_lexer": "ipython2",
   "version": "2.7.12"
  }
 },
 "nbformat": 4,
 "nbformat_minor": 1
}
